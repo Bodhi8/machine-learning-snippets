{
 "metadata": {
  "name": "Theano-tutorial-more-examples"
 },
 "nbformat": 3,
 "nbformat_minor": 0,
 "worksheets": [
  {
   "cells": [
    {
     "cell_type": "code",
     "collapsed": false,
     "input": [
      "#From the page http://deeplearning.net/software/theano/tutorial/examples.html\n",
      "\n",
      "#Logistic function\n",
      "import theano.tensor as T\n",
      "import numpy as np\n",
      "from theano import function\n",
      "x = T.dmatrix('x')\n",
      "s = 1/(1 + T.exp(-x))#Logistic function, elementwise!\n",
      "logistic = function([x],s)\n",
      "#Example\n",
      "print logistic([[0,1],[-1,-2]])#inputing two values of 2-d x as two rows of a matrix"
     ],
     "language": "python",
     "metadata": {},
     "outputs": [
      {
       "output_type": "stream",
       "stream": "stdout",
       "text": [
        "[[ 0.5         0.73105858]\n",
        " [ 0.26894142  0.11920292]]\n"
       ]
      }
     ],
     "prompt_number": 2
    },
    {
     "cell_type": "code",
     "collapsed": false,
     "input": [],
     "language": "python",
     "metadata": {},
     "outputs": []
    },
    {
     "cell_type": "code",
     "collapsed": false,
     "input": [],
     "language": "python",
     "metadata": {},
     "outputs": []
    },
    {
     "cell_type": "code",
     "collapsed": false,
     "input": [],
     "language": "python",
     "metadata": {},
     "outputs": []
    }
   ],
   "metadata": {}
  }
 ]
}