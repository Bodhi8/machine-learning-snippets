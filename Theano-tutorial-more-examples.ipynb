{
 "metadata": {
  "name": "Theano-tutorial-more-examples"
 },
 "nbformat": 3,
 "nbformat_minor": 0,
 "worksheets": [
  {
   "cells": [
    {
     "cell_type": "code",
     "collapsed": false,
     "input": [
      "#From the page http://deeplearning.net/software/theano/tutorial/examples.html\n",
      "\n",
      "#Logistic function\n",
      "import theano.tensor as T\n",
      "import numpy as np\n",
      "from theano import function\n",
      "x = T.dmatrix('x')\n",
      "s = 1/(1 + T.exp(-x))#Logistic function, elementwise!\n",
      "logistic = function([x],s)\n",
      "#Example\n",
      "print logistic([[0,1],[-1,-2]])#inputing two values of 2-d x as two rows of a matrix"
     ],
     "language": "python",
     "metadata": {},
     "outputs": [
      {
       "output_type": "stream",
       "stream": "stdout",
       "text": [
        "[[ 0.5         0.73105858]\n",
        " [ 0.26894142  0.11920292]]\n"
       ]
      }
     ],
     "prompt_number": 2
    },
    {
     "cell_type": "code",
     "collapsed": false,
     "input": [
      "#tanh version of sigmoid\n",
      "sTanh = .5 + .5*T.tanh(.5*x)\n",
      "logisticTanh = function([x],sTanh)\n",
      "print logistic([[0,1],[-1,-2]])\n"
     ],
     "language": "python",
     "metadata": {},
     "outputs": [
      {
       "output_type": "stream",
       "stream": "stdout",
       "text": [
        "[[ 0.5         0.73105858]\n",
        " [ 0.26894142  0.11920292]]\n"
       ]
      }
     ],
     "prompt_number": 3
    },
    {
     "cell_type": "code",
     "collapsed": false,
     "input": [
      "#Multi-dimensional functions a.k.a computing multiple outputs at the same time.\n",
      "a,b = T.dmatrices('a','b')#This is a shortcut to initialize multiple symbols\n",
      "diff = a - b\n",
      "abs_diff = abs(diff)\n",
      "diff_pow_2 = diff**2\n",
      "multiOut = function([a,b],[diff,abs_diff,diff_pow_2])\n",
      "#Example\n",
      "multiOut([[1, 1], [1, 1]], [[0, 1], [2, 3]])"
     ],
     "language": "python",
     "metadata": {},
     "outputs": [
      {
       "output_type": "pyout",
       "prompt_number": 4,
       "text": [
        "[array([[ 1.,  0.],\n",
        "       [-1., -2.]]),\n",
        " array([[ 1.,  0.],\n",
        "       [ 1.,  2.]]),\n",
        " array([[ 1.,  0.],\n",
        "       [ 1.,  4.]])]"
       ]
      }
     ],
     "prompt_number": 4
    },
    {
     "cell_type": "code",
     "collapsed": false,
     "input": [
      "#Set default arguments to functions\n",
      "from theano import Param\n",
      "x,y = T.dscalars('x','y') #again a shortcut\n",
      "z = x + y\n",
      "f = function([x,Param(y,default=1,name='y_by_name')],z)#overriding y's symbolic name\n",
      "#Example\n",
      "print f(10)\n",
      "print f(45,33)\n",
      "print f(45,y_by_name=10)\n",
      "print f(x=45)"
     ],
     "language": "python",
     "metadata": {},
     "outputs": [
      {
       "output_type": "stream",
       "stream": "stdout",
       "text": [
        "11.0\n",
        "78.0\n",
        "55.0\n",
        "46.0\n"
       ]
      }
     ],
     "prompt_number": 9
    },
    {
     "cell_type": "code",
     "collapsed": false,
     "input": [
      "#Functions with internal states: aka use of shared variables\n",
      "from theano import shared\n"
     ],
     "language": "python",
     "metadata": {},
     "outputs": []
    },
    {
     "cell_type": "code",
     "collapsed": false,
     "input": [],
     "language": "python",
     "metadata": {},
     "outputs": []
    },
    {
     "cell_type": "code",
     "collapsed": false,
     "input": [],
     "language": "python",
     "metadata": {},
     "outputs": []
    }
   ],
   "metadata": {}
  }
 ]
}