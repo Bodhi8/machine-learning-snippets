{
 "metadata": {
  "name": "Theano-tutorial-more-examples"
 },
 "nbformat": 3,
 "nbformat_minor": 0,
 "worksheets": [
  {
   "cells": [
    {
     "cell_type": "code",
     "collapsed": false,
     "input": [
      "#From the page http://deeplearning.net/software/theano/tutorial/examples.html\n",
      "\n",
      "#Logistic function\n",
      "import theano.tensor as T\n",
      "import numpy as np\n",
      "from theano import function\n",
      "x = T.dmatrix('x')\n",
      "s = 1/(1 + T.exp(-x))#Logistic function, elementwise!\n",
      "logistic = function([x],s)\n",
      "#Example\n",
      "print logistic([[0,1],[-1,-2]])#inputing two values of 2-d x as two rows of a matrix"
     ],
     "language": "python",
     "metadata": {},
     "outputs": [
      {
       "output_type": "stream",
       "stream": "stdout",
       "text": [
        "[[ 0.5         0.73105858]\n",
        " [ 0.26894142  0.11920292]]\n"
       ]
      }
     ],
     "prompt_number": 2
    },
    {
     "cell_type": "code",
     "collapsed": false,
     "input": [
      "#tanh version of sigmoid\n",
      "sTanh = .5 + .5*T.tanh(.5*x)\n",
      "logisticTanh = function([x],sTanh)\n",
      "print logistic([[0,1],[-1,-2]])\n"
     ],
     "language": "python",
     "metadata": {},
     "outputs": [
      {
       "output_type": "stream",
       "stream": "stdout",
       "text": [
        "[[ 0.5         0.73105858]\n",
        " [ 0.26894142  0.11920292]]\n"
       ]
      }
     ],
     "prompt_number": 3
    },
    {
     "cell_type": "code",
     "collapsed": false,
     "input": [
      "#Multi-dimensional functions a.k.a computing multiple outputs at the same time.\n",
      "a,b = T.dmatrices('a','b')#This is a shortcut to initialize multiple symbols\n",
      "diff = a - b\n",
      "abs_diff = abs(diff)\n",
      "diff_pow_2 = diff**2\n",
      "multiOut = function([a,b],[diff,abs_diff,diff_pow_2])\n",
      "#Example\n",
      "multiOut([[1, 1], [1, 1]], [[0, 1], [2, 3]])"
     ],
     "language": "python",
     "metadata": {},
     "outputs": [
      {
       "output_type": "pyout",
       "prompt_number": 4,
       "text": [
        "[array([[ 1.,  0.],\n",
        "       [-1., -2.]]),\n",
        " array([[ 1.,  0.],\n",
        "       [ 1.,  2.]]),\n",
        " array([[ 1.,  0.],\n",
        "       [ 1.,  4.]])]"
       ]
      }
     ],
     "prompt_number": 4
    },
    {
     "cell_type": "code",
     "collapsed": false,
     "input": [
      "#Set default arguments to functions\n",
      "from theano import Param\n",
      "x,y = T.dscalars('x','y') #again a shortcut\n",
      "z = x + y\n",
      "f = function([x,Param(y,default=1,name='y_by_name')],z)#overriding y's symbolic name\n",
      "#Example\n",
      "print f(10)\n",
      "print f(45,33)\n",
      "print f(45,y_by_name=10)\n",
      "print f(x=45)"
     ],
     "language": "python",
     "metadata": {},
     "outputs": [
      {
       "output_type": "stream",
       "stream": "stdout",
       "text": [
        "11.0\n",
        "78.0\n",
        "55.0\n",
        "46.0\n"
       ]
      }
     ],
     "prompt_number": 9
    },
    {
     "cell_type": "code",
     "collapsed": false,
     "input": [
      "#Functions with internal states: aka use of shared variables\n",
      "from theano import shared\n",
      "state = shared(0)#a hybrid symbolic and non-symbolic variables whose value may be shared between two functions\n",
      "#value can be access by .get_value() and .set_value() methods\n",
      "inc = T.iscalar('increment')\n",
      "accumulator = function([inc],state,updates=[(state,state+inc)])\n",
      "#example\n",
      "print state.get_value()\n",
      "print accumulator(1)\n",
      "print state.set_value(-20)\n",
      "print state.get_value()\n",
      "print accumulator(44)\n",
      "print state.get_value()\n",
      "\n",
      "#additional function\n",
      "decrementor = function([inc],state,updates=[(state,state-inc)])\n",
      "print decrementor(10)\n",
      "print state.get_value()\n",
      "\n",
      "#This way of using shared variables enables faster computation within Theano. \n",
      "#We can override shared state using givens argument to the function definition (not shown here)"
     ],
     "language": "python",
     "metadata": {},
     "outputs": [
      {
       "output_type": "stream",
       "stream": "stdout",
       "text": [
        "0\n",
        "0\n",
        "None\n",
        "-20\n",
        "-20\n",
        "24\n",
        "24\n",
        "14\n"
       ]
      }
     ],
     "prompt_number": 14
    },
    {
     "cell_type": "code",
     "collapsed": false,
     "input": [
      "#Random numbers:\n",
      "\n",
      "#In theano, we express everything symbolically and compile it later to get functions.\n",
      "#Thus, use of random number is not as straightforward\n",
      "#Think of putting random variables on a graph\n",
      "#We can then attach a numpy RandomStream object to each \"symbol\" and draw as necessary\n",
      "\n",
      "srng = T.shared_randomstreams.RandomStreams(seed = 42)\n",
      "rv_u = srng.uniform((2,2))\n",
      "rv_n = srng.normal((2,2))\n",
      "f = function([], rv_u)\n",
      "g = function([], rv_n, no_default_updates=True)    #Not updating rv_n.rng, so will get the same realization!\n",
      "nearly_zeros = function([], rv_u + rv_u - 2 * rv_u)\n",
      "print f()\n",
      "print f()\n",
      "print g()\n",
      "print g()#same realization\n",
      "print nearly_zeros()#output 0 since rv_u is called only once even though it appears thrice in the function expression."
     ],
     "language": "python",
     "metadata": {},
     "outputs": [
      {
       "output_type": "stream",
       "stream": "stdout",
       "text": [
        "[[ 0.37658785  0.78818459]\n",
        " [ 0.07295109  0.0119289 ]]\n",
        "[[ 0.94040874  0.43140626]\n",
        " [ 0.7805285   0.30055131]]\n",
        "[[-0.44221778 -1.18521008]\n",
        " [ 2.57751759 -0.2318672 ]]\n",
        "[[-0.44221778 -1.18521008]\n",
        " [ 2.57751759 -0.2318672 ]]\n",
        "[[ 0.  0.]\n",
        " [ 0.  0.]]\n"
       ]
      }
     ],
     "prompt_number": 17
    },
    {
     "cell_type": "code",
     "collapsed": false,
     "input": [
      "#Random numbers can be seeded individually as well\n",
      "#Seed one RV by assigning to the .rng attribute using .rng.set_value()\n",
      "rng_val = rv_n.rng.get_value(borrow=True)#get the rng for rv_n\n",
      "rng_val.seed(51) #seed the val object\n",
      "rv_n.rng.set_value(rng_val,borrow=True)#assign back the seeded rng"
     ],
     "language": "python",
     "metadata": {},
     "outputs": []
    }
   ],
   "metadata": {}
  }
 ]
}