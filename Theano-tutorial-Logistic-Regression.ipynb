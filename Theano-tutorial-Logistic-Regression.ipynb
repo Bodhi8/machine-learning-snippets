{
 "metadata": {
  "name": "Theano-tutorial-Logistic-Regression"
 },
 "nbformat": 3,
 "nbformat_minor": 0,
 "worksheets": [
  {
   "cells": [
    {
     "cell_type": "code",
     "collapsed": false,
     "input": [
      "#source: http://deeplearning.net/software/theano/tutorial/examples.html"
     ],
     "language": "python",
     "metadata": {},
     "outputs": []
    },
    {
     "cell_type": "code",
     "collapsed": false,
     "input": [
      "import numpy\n",
      "import theano\n",
      "import theano.tensor as T\n",
      "rng = numpy.random\n",
      "\n",
      "N = 400\n",
      "feats = 784\n",
      "D = (rng.randn(N, feats), rng.randint(size=N, low=0, high=2))\n",
      "training_steps = 10000\n",
      "\n",
      "# Declare Theano symbolic variables\n",
      "x = T.matrix(\"x\")\n",
      "y = T.vector(\"y\")\n",
      "w = theano.shared(rng.randn(feats), name=\"w\")\n",
      "b = theano.shared(0., name=\"b\")\n",
      "print \"Initial model:\"\n",
      "print w.get_value(), b.get_value()\n",
      "\n",
      "# Construct Theano expression graph\n",
      "p_1 = 1 / (1 + T.exp(-T.dot(x, w) - b))   # Probability that target = 1\n",
      "prediction = p_1 > 0.5                    # The prediction thresholded\n",
      "xent = -y * T.log(p_1) - (1-y) * T.log(1-p_1) # Cross-entropy loss function\n",
      "cost = xent.mean() + 0.01 * (w ** 2).sum()# The cost to minimize\n",
      "gw, gb = T.grad(cost, [w, b])             # Compute the gradient of the cost\n",
      "                                          # (we shall return to this in a\n",
      "                                          # following section of this tutorial)\n",
      "\n",
      "# Compile\n",
      "train = theano.function(\n",
      "          inputs=[x,y],\n",
      "          outputs=[prediction, xent],\n",
      "          updates=((w, w - 0.1 * gw), (b, b - 0.1 * gb)))\n",
      "predict = theano.function(inputs=[x], outputs=prediction)\n",
      "\n",
      "# Train\n",
      "for i in range(training_steps):\n",
      "    pred, err = train(D[0], D[1])\n",
      "\n",
      "print \"Final model:\"\n",
      "print w.get_value(), b.get_value()\n",
      "print \"target values for D:\", D[1]\n",
      "print \"prediction on D:\", predict(D[0])"
     ],
     "language": "python",
     "metadata": {},
     "outputs": []
    }
   ],
   "metadata": {}
  }
 ]
}