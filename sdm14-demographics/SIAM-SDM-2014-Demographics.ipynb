{
 "metadata": {
  "name": ""
 },
 "nbformat": 3,
 "nbformat_minor": 0,
 "worksheets": [
  {
   "cells": [
    {
     "cell_type": "code",
     "collapsed": false,
     "input": [
      "from bs4 import BeautifulSoup\n",
      "import os\n",
      "import urllib2\n",
      "\n",
      "\n",
      "# url = 'http://meetings.siam.org/speakdex.cfm?CONFCODE=DT14'\n",
      "# conn = urllib2.urlopen(url)\n",
      "# html_doc = conn.read()\n",
      "\n",
      "with open('sdm.html','rb') as fin:\n",
      "  html_doc = fin.read()\n",
      "    \n",
      "    \n",
      "soup = BeautifulSoup(html_doc)\n",
      "\n",
      "\n",
      "links = soup.find_all('a') # Finds all hrefs from the html doc.\n",
      "\n",
      "lnames = []\n",
      "for tag in links:\n",
      "    link = tag.get('href',None)\n",
      "    name = tag.string.split(\":\")[0]\n",
      "    name = name.replace(\"Cancelled\",\"\")\n",
      "    if len(name) > 1:\n",
      "        lnames.append(name.split(\",\")[0])\n",
      "\n",
      "lnames = sort(list(set(lnames)))\n",
      "# for e in lnames:\n",
      "#     print e\n",
      "\n",
      "\n",
      "#Unfinished\n",
      "def name_classifier_rule_based(name):\n",
      "    param_asian = []\n",
      "#http://opendata.stackexchange.com/questions/46/multinational-list-of-popular-first-names-and-surnames\n",
      "#The above solutions were not quick enough\n",
      "#Go over to excel and do manual labeling of the last names\n",
      "\n",
      "\n",
      "\n",
      "#Tried to read the excel file directly, \n",
      "#chose to read a manually saved csv version instead.\n",
      "# from mmap import mmap,ACCESS_READ\n",
      "# from xlrd import open_workbook\n",
      "# print open_workbook('lastnames.xlsx')\n",
      "# with open('lastnames.xlsx','rb') as f:\n",
      "#  print open_workbook(\n",
      "#  file_contents=mmap(f.fileno(),0,access=ACCESS_READ)\n",
      "#  )\n",
      "# aString = open('lastnames.xlsx','rb').read()\n",
      "# print open_workbook(file_contents=aString)\n",
      "\n",
      "with open('lastnames.csv','rb') as fin:\n",
      "    lname_eth = fin.read().split('\\r')\n",
      "lname_eth = [x.split(',') for x in lname_eth]\n",
      "ethnicity_lname = {x[0]:x[1] for x in lname_eth}"
     ],
     "language": "python",
     "metadata": {},
     "outputs": [],
     "prompt_number": 1
    },
    {
     "cell_type": "code",
     "collapsed": false,
     "input": [
      "#Ethnicity counts\n",
      "labelDict = {'a': 'Asian', 'e': 'Other','i': 'Indian'}\n",
      "count = {}\n",
      "for k,v in labelDict.items():\n",
      "    count[v]= 0\n",
      "for name in lnames:\n",
      "    if ethnicity_lname.get(name) is not None:\n",
      "        count[labelDict[ethnicity_lname[name]]] +=1\n",
      "print count"
     ],
     "language": "python",
     "metadata": {},
     "outputs": [
      {
       "output_type": "stream",
       "stream": "stdout",
       "text": [
        "{'Indian': 63, 'Other': 137, 'Asian': 109}\n"
       ]
      }
     ],
     "prompt_number": 4
    },
    {
     "cell_type": "code",
     "collapsed": false,
     "input": [
      "# a bar plot with errorbars\n",
      "import numpy as np\n",
      "import matplotlib.pyplot as plt\n",
      "\n",
      "labelList = []\n",
      "valueList = []\n",
      "for k,v in count.items():\n",
      "    labelList.append(k)\n",
      "    valueList.append(v)\n",
      "# print labelList\n",
      "# print valueList\n",
      "\n",
      "N = len(valueList)\n",
      "menMeans = tuple(valueList)\n",
      "\n",
      "ind = np.arange(N)  # the x locations for the groups\n",
      "width = 0.35       # the width of the bars\n",
      "\n",
      "fig, ax = plt.subplots()\n",
      "rects1 = ax.bar(ind, menMeans, width, color='r')\n",
      "\n",
      "# add some\n",
      "ax.set_ylabel('People Counts')\n",
      "ax.set_title('Counts by group')\n",
      "ax.set_xticks(ind+width*.5)\n",
      "ax.set_xticklabels( tuple(labelList) )\n",
      "x1,x2,y1,y2 = plt.axis()\n",
      "plt.axis((x1,x2,y1,max(menMeans)+10))\n",
      "\n",
      "def autolabel(rects):\n",
      "    # attach some text labels\n",
      "    for rect in rects:\n",
      "        height = rect.get_height()\n",
      "        ax.text(rect.get_x()+rect.get_width()/2., 1.05*height, '%d'%int(height),\n",
      "                ha='center', va='bottom')\n",
      "\n",
      "autolabel(rects1)\n",
      "plt.show()"
     ],
     "language": "python",
     "metadata": {},
     "outputs": [
      {
       "metadata": {},
       "output_type": "display_data",
       "png": "[encoded data removed]",
       "text": [
        "<matplotlib.figure.Figure at 0x108df9390>"
       ]
      }
     ],
     "prompt_number": 5
    },
    {
     "cell_type": "code",
     "collapsed": false,
     "input": [
      "#d3 visualization\n",
      "import json\n",
      "with open('counts.json', 'w') as outfile:\n",
      "  json.dump(count, outfile)\n"
     ],
     "language": "python",
     "metadata": {},
     "outputs": [],
     "prompt_number": 6
    }
   ],
   "metadata": {}
  }
 ]
}