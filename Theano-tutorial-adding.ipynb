{
 "metadata": {
  "name": "Theano-tutorial-adding"
 },
 "nbformat": 3,
 "nbformat_minor": 0,
 "worksheets": [
  {
   "cells": [
    {
     "cell_type": "code",
     "collapsed": false,
     "input": [
      "#This notebook will be about adding basic types in Theano\n",
      "#Followed from this url: http://deeplearning.net/software/theano/tutorial/adding.html\n",
      "import numpy as np"
     ],
     "language": "python",
     "metadata": {},
     "outputs": [],
     "prompt_number": 1
    },
    {
     "cell_type": "code",
     "collapsed": false,
     "input": [
      "#Matrix conventions for ML\n",
      "mat1 = np.asarray([[1,2],[3,4],[5,6]])#rows are observations, columns are features\n",
      "print mat1.shape\n",
      "print mat1[2,0]"
     ],
     "language": "python",
     "metadata": {},
     "outputs": [
      {
       "output_type": "stream",
       "stream": "stdout",
       "text": [
        "(3, 2)\n",
        "5\n"
       ]
      }
     ],
     "prompt_number": 2
    },
    {
     "cell_type": "code",
     "collapsed": false,
     "input": [
      "#NP Array broadcasting trick for tidyness\n",
      "mat2 = 5\n",
      "print mat1*mat2"
     ],
     "language": "python",
     "metadata": {},
     "outputs": [
      {
       "output_type": "stream",
       "stream": "stdout",
       "text": [
        "[[ 5 10]\n",
        " [15 20]\n",
        " [25 30]]\n"
       ]
      }
     ],
     "prompt_number": 3
    },
    {
     "cell_type": "code",
     "collapsed": false,
     "input": [
      "#Theano tutorial: Adding two scalars\n",
      "import theano.tensor as T\n",
      "from theano import function\n",
      "x = T.dscalar('x')#define a symbol\n",
      "y = T.dscalar('y')#define another symbol\n",
      "z = x+y#derive a new symbol using existing symbols\n",
      "f = function([x,y],z)#the output of f is a numpy.ndarry object with 0 dimensions\n",
      "print f(2,3)\n",
      "print f(10,1000.1)\n",
      "#function f was being compiled into C code!"
     ],
     "language": "python",
     "metadata": {},
     "outputs": [
      {
       "output_type": "stream",
       "stream": "stdout",
       "text": [
        "5.0\n",
        "1010.1\n"
       ]
      }
     ],
     "prompt_number": 5
    },
    {
     "cell_type": "code",
     "collapsed": false,
     "input": [
      "#In theano, all symbols are typed. \n",
      "#T.dscalar refers to 0-dim arrays or scalars (of double)\n",
      "#dscalar is not a class\n",
      "#x,y are not instaces of dscalar. They are instances of TensorVariable\n",
      "print type(x)\n",
      "print x.type\n",
      "print T.dscalar\n",
      "print x.type is T.dscalar"
     ],
     "language": "python",
     "metadata": {},
     "outputs": [
      {
       "output_type": "stream",
       "stream": "stdout",
       "text": [
        "<class 'theano.tensor.var.TensorVariable'>\n",
        "TensorType(float64, scalar)\n",
        "TensorType(float64, scalar)\n",
        "True\n"
       ]
      }
     ],
     "prompt_number": 9
    },
    {
     "cell_type": "code",
     "collapsed": false,
     "input": [
      "#Calling T.dscalar with a string argument creates a \"symbol\"\n",
      "#z is a symbol which represents the addition of x,y\n",
      "from theano import pp\n",
      "print pp(z)"
     ],
     "language": "python",
     "metadata": {},
     "outputs": [
      {
       "output_type": "stream",
       "stream": "stdout",
       "text": [
        "(x + y)\n"
       ]
      }
     ],
     "prompt_number": 10
    },
    {
     "cell_type": "code",
     "collapsed": false,
     "input": [
      "#f is a function which behaves as a regular python function.\n",
      "#We could have used the symbol's eval method as well\n",
      "print z.eval({x:10,y:200})"
     ],
     "language": "python",
     "metadata": {},
     "outputs": [
      {
       "output_type": "stream",
       "stream": "stdout",
       "text": [
        "210.0\n"
       ]
      }
     ],
     "prompt_number": 12
    },
    {
     "cell_type": "code",
     "collapsed": false,
     "input": [
      "#Adding two matrices\n",
      "x = T.dmatrix('x')\n",
      "y = T.dmatrix('y')\n",
      "f = function([x,y],x+y)\n",
      "print f([[1,2],[1,2]],[[5,6],[6,5]])#can use 2d arrays as inputs\n",
      "print f(np.asarray([[1,2],[1,2]]),np.asarray([[5,6],[6,5]]))#can use numpy arrays as inputs\n",
      "#Broadcasting example above can be used here\n",
      "#Types:\n",
      "#byte: bscalar, bvector, bmatrix, brow, bcol, btensor3, btensor4\n",
      "#16-bit integers: wscalar, wvector, wmatrix, wrow, wcol, wtensor3, wtensor4\n",
      "#32-bit integers: iscalar, ivector, imatrix, irow, icol, itensor3, itensor4\n",
      "#64-bit integers: lscalar, lvector, lmatrix, lrow, lcol, ltensor3, ltensor4\n",
      "#float: fscalar, fvector, fmatrix, frow, fcol, ftensor3, ftensor4\n",
      "#double: dscalar, dvector, dmatrix, drow, dcol, dtensor3, dtensor4\n",
      "#complex: cscalar, cvector, cmatrix, crow, ccol, ctensor3, ctensor4"
     ],
     "language": "python",
     "metadata": {},
     "outputs": [
      {
       "output_type": "stream",
       "stream": "stdout",
       "text": [
        "[[ 6.  8.]\n",
        " [ 7.  7.]]\n",
        "[[ 6.  8.]\n",
        " [ 7.  7.]]\n"
       ]
      }
     ],
     "prompt_number": 17
    },
    {
     "cell_type": "code",
     "collapsed": false,
     "input": [
      "#Exercise: compute this expression: a ** 2 + b ** 2 + 2 * a * b\n",
      "import theano\n",
      "a = theano.tensor.dvector('a') # declare symbol\n",
      "b = theano.tensor.dvector('b') # declare symbol\n",
      "out = b**2 + a ** 2 + 2*a*b               # build symbolic expression\n",
      "f = theano.function([a,b], out)   # compile function\n",
      "print f([1,3], [2,4])  # prints `array([0, 2, 1026])`"
     ],
     "language": "python",
     "metadata": {},
     "outputs": [
      {
       "output_type": "stream",
       "stream": "stdout",
       "text": [
        "[  9.  49.]\n"
       ]
      }
     ],
     "prompt_number": 21
    },
    {
     "cell_type": "code",
     "collapsed": false,
     "input": [
      "whos"
     ],
     "language": "python",
     "metadata": {},
     "outputs": [
      {
       "output_type": "stream",
       "stream": "stdout",
       "text": [
        "Variable   Type                        Data/Info\n",
        "------------------------------------------------\n",
        "T          module                      <module 'theano.tensor' f<...>ano/tensor/__init__.pyc'>\n",
        "function   function                    <function function at 0x1088c7f50>\n",
        "mat1       ndarray                     3x2: 6 elems, type `int64`, 48 bytes\n",
        "mat2       int                         5\n",
        "pp         theano.printing.PPrinter    <theano.printing.PPrinter<...> instance at 0x1088b7dd0>\n",
        "x          TensorVariable              x\n",
        "y          TensorVariable              y\n",
        "z          TensorVariable              Elemwise{add,no_inplace}.0\n"
       ]
      }
     ],
     "prompt_number": 18
    }
   ],
   "metadata": {}
  }
 ]
}