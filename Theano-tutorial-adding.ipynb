{
 "metadata": {
  "name": "Theano-tutorial-adding"
 },
 "nbformat": 3,
 "nbformat_minor": 0,
 "worksheets": [
  {
   "cells": [
    {
     "cell_type": "code",
     "collapsed": false,
     "input": [
      "import numpy as np"
     ],
     "language": "python",
     "metadata": {},
     "outputs": [],
     "prompt_number": 1
    },
    {
     "cell_type": "code",
     "collapsed": false,
     "input": [
      "#Matrix conventions for ML\n",
      "mat1 = np.asarray([[1,2],[3,4],[5,6]])#rows are observations, columns are features\n",
      "print mat1.shape\n",
      "print mat1[2,0]"
     ],
     "language": "python",
     "metadata": {},
     "outputs": [
      {
       "output_type": "stream",
       "stream": "stdout",
       "text": [
        "(3, 2)\n",
        "5\n"
       ]
      }
     ],
     "prompt_number": 2
    },
    {
     "cell_type": "code",
     "collapsed": false,
     "input": [
      "#NP Array broadcasting trick for tidyness\n",
      "mat2 = 5\n",
      "print mat1*mat2"
     ],
     "language": "python",
     "metadata": {},
     "outputs": [
      {
       "output_type": "stream",
       "stream": "stdout",
       "text": [
        "[[ 5 10]\n",
        " [15 20]\n",
        " [25 30]]\n"
       ]
      }
     ],
     "prompt_number": 3
    },
    {
     "cell_type": "code",
     "collapsed": false,
     "input": [
      "#Theano tutorial: Adding two scalars\n",
      "import theano.tensor as T\n",
      "from theano import function\n",
      "x = T.dscalar('x')#define a symbol\n",
      "y = T.dscalar('y')#define another symbol\n",
      "z = x+y#derive a new symbol using existing symbols\n",
      "f = function([x,y],z)#the output of f is a numpy.ndarry object with 0 dimensions\n",
      "print f(2,3)\n",
      "print f(10,1000.1)\n",
      "#function f was being compiled into C code!"
     ],
     "language": "python",
     "metadata": {},
     "outputs": [
      {
       "output_type": "stream",
       "stream": "stdout",
       "text": [
        "5.0\n",
        "1010.1\n"
       ]
      }
     ],
     "prompt_number": 5
    },
    {
     "cell_type": "code",
     "collapsed": false,
     "input": [
      "#In theano, all symbols are typed. \n",
      "#T.dscalar refers to 0-dim arrays or scalars (of double)\n",
      "#dscalar is not a class\n",
      "#x,y are not instaces of dscalar. They are instances of TensorVariable\n",
      "print type(x)\n",
      "print x.type\n",
      "print T.dscalar\n",
      "print x.type is T.dscalar"
     ],
     "language": "python",
     "metadata": {},
     "outputs": [
      {
       "output_type": "stream",
       "stream": "stdout",
       "text": [
        "<class 'theano.tensor.var.TensorVariable'>\n",
        "TensorType(float64, scalar)\n",
        "TensorType(float64, scalar)\n",
        "True\n"
       ]
      }
     ],
     "prompt_number": 9
    },
    {
     "cell_type": "code",
     "collapsed": false,
     "input": [
      "#Calling T.dscalar with a string argument creates a \"symbol\"\n",
      "#z is a symbol which represents the addition of x,y\n",
      "from theano import pp\n",
      "print pp(z)"
     ],
     "language": "python",
     "metadata": {},
     "outputs": [
      {
       "output_type": "stream",
       "stream": "stdout",
       "text": [
        "(x + y)\n"
       ]
      }
     ],
     "prompt_number": 10
    },
    {
     "cell_type": "code",
     "collapsed": false,
     "input": [
      "#f is a function which behaves as a regular python function.\n",
      "#We could have used the symbol's eval method as well\n",
      "print z.eval({x:10,y:200})"
     ],
     "language": "python",
     "metadata": {},
     "outputs": [
      {
       "output_type": "stream",
       "stream": "stdout",
       "text": [
        "210.0\n"
       ]
      }
     ],
     "prompt_number": 12
    },
    {
     "cell_type": "code",
     "collapsed": false,
     "input": [],
     "language": "python",
     "metadata": {},
     "outputs": []
    },
    {
     "cell_type": "code",
     "collapsed": false,
     "input": [],
     "language": "python",
     "metadata": {},
     "outputs": []
    },
    {
     "cell_type": "code",
     "collapsed": false,
     "input": [],
     "language": "python",
     "metadata": {},
     "outputs": []
    },
    {
     "cell_type": "code",
     "collapsed": false,
     "input": [],
     "language": "python",
     "metadata": {},
     "outputs": []
    },
    {
     "cell_type": "code",
     "collapsed": false,
     "input": [],
     "language": "python",
     "metadata": {},
     "outputs": []
    },
    {
     "cell_type": "code",
     "collapsed": false,
     "input": [],
     "language": "python",
     "metadata": {},
     "outputs": []
    },
    {
     "cell_type": "code",
     "collapsed": false,
     "input": [],
     "language": "python",
     "metadata": {},
     "outputs": []
    }
   ],
   "metadata": {}
  }
 ]
}