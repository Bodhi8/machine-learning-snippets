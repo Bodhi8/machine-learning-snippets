{
 "metadata": {
  "name": ""
 },
 "nbformat": 3,
 "nbformat_minor": 0,
 "worksheets": [
  {
   "cells": [
    {
     "cell_type": "code",
     "collapsed": false,
     "input": [
      "#http://radimrehurek.com/gensim/tutorial.html"
     ],
     "language": "python",
     "metadata": {},
     "outputs": []
    },
    {
     "cell_type": "code",
     "collapsed": false,
     "input": [
      "#import logging\n",
      "#logging.basicConfig(format='%(asctime)s : %(LeveLname)s : %(message)s',level=logging.INFO)\n"
     ],
     "language": "python",
     "metadata": {},
     "outputs": []
    },
    {
     "cell_type": "code",
     "collapsed": false,
     "input": [
      "from gensim import corpora, models, similarities"
     ],
     "language": "python",
     "metadata": {},
     "outputs": [],
     "prompt_number": 1
    },
    {
     "cell_type": "code",
     "collapsed": false,
     "input": [
      "corpus = [ [(0, 1.0), (1, 1.0), (2, 1.0)],\n",
      "           [(2, 1.0), (3, 1.0), (4, 1.0), (5, 1.0), (6, 1.0), (8, 1.0)],\n",
      "           [(1, 1.0), (3, 1.0), (4, 1.0), (7, 1.0)],\n",
      "           [(0, 1.0), (4, 2.0), (7, 1.0)],\n",
      "           [(3, 1.0), (5, 1.0), (6, 1.0)],\n",
      "           [(9, 1.0)],\n",
      "           [(9, 1.0), (10, 1.0)],\n",
      "           [(9, 1.0), (10, 1.0), (11, 1.0)],\n",
      "           [(8, 1.0), (10, 1.0), (11, 1.0)]]"
     ],
     "language": "python",
     "metadata": {},
     "outputs": [],
     "prompt_number": 2
    },
    {
     "cell_type": "code",
     "collapsed": false,
     "input": [
      "tfidf = models.TfidfModel(corpus)#takes docs in Bag-of-words representation and applies weighting which discounts common terms"
     ],
     "language": "python",
     "metadata": {},
     "outputs": [],
     "prompt_number": 3
    },
    {
     "cell_type": "code",
     "collapsed": false,
     "input": [
      "vec = [(0,1),(4,1)]\n",
      "print tfidf[vec]\n",
      "#from numpy import linalg as LA\n",
      "#print LA.norm(tfidf[vec][0])\n",
      "#print sqrt(dot([1 ,1],[1, 1]))"
     ],
     "language": "python",
     "metadata": {},
     "outputs": [
      {
       "output_type": "stream",
       "stream": "stdout",
       "text": [
        "[(0, 0.8075244024440723), (4, 0.5898341626740045)]\n",
        "1.41421356237\n"
       ]
      }
     ],
     "prompt_number": 12
    },
    {
     "cell_type": "code",
     "collapsed": false,
     "input": [
      "index = similarities.SparseMatrixSimilarity(tfidf[corpus], num_features=12)"
     ],
     "language": "python",
     "metadata": {},
     "outputs": [],
     "prompt_number": 13
    },
    {
     "cell_type": "code",
     "collapsed": false,
     "input": [
      "sims = index[tfidf[vec]]\n",
      "print list(enumerate(sims))\n",
      "#Document number zero (the first document) has a similarity score of 0.466=46.6%, the second document has a similarity score of 19.1% etc."
     ],
     "language": "python",
     "metadata": {},
     "outputs": [
      {
       "output_type": "stream",
       "stream": "stdout",
       "text": [
        "[(0, 0.4662244), (1, 0.19139354), (2, 0.24600551), (3, 0.82094586), (4, 0.0), (5, 0.0), (6, 0.0), (7, 0.0), (8, 0.0)]\n"
       ]
      }
     ],
     "prompt_number": 14
    }
   ],
   "metadata": {}
  }
 ]
}