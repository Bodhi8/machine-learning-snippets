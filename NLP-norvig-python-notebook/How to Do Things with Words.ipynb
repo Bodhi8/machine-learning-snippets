{
 "metadata": {
  "name": "How to Do Things with Words"
 },
 "nbformat": 3,
 "nbformat_minor": 0,
 "worksheets": [
  {
   "cells": [
    {
     "cell_type": "code",
     "collapsed": false,
     "input": [
      "import re\n",
      "import math\n",
      "import string\n",
      "from collections import Counter\n",
      "from __future__ import division"
     ],
     "language": "python",
     "metadata": {},
     "outputs": [],
     "prompt_number": 613
    },
    {
     "cell_type": "markdown",
     "metadata": {},
     "source": [
      "Statistical Natural Language Processing in Python.\n",
      "====\n",
      "\n",
      "<center>\n",
      "or\n",
      "---\n",
      "</center>\n",
      "\n",
      "How To Do Things With Words.  And Counters.\n",
      "===\n",
      "\n",
      "<center>\n",
      "or\n",
      "---\n",
      "</center>\n",
      "\n",
      "Everything I Needed to Know About NLP I learned From Sesame Street. Except Kneser-Ney Smoothing.  The Count Didn't Cover That.\n",
      "===\n",
      "\n",
      "<img src='http://lpcoverlover.com/wp-content/uploads/2008/07.resized/the-count.jpg'>\n",
      "\n",
      "(1) Data: Word Counts\n",
      "========\n",
      "\n",
      "\n",
      "First we want to know what natural language looks like.  I'll concatenate a big bunch of text together as [big.txt](file:///Users/pnorvig/Documents/ipynb/big.txt)."
     ]
    },
    {
     "cell_type": "code",
     "collapsed": false,
     "input": [
      "BIG = file('big.txt').read()\n",
      "len(BIG)"
     ],
     "language": "python",
     "metadata": {},
     "outputs": []
    },
    {
     "cell_type": "markdown",
     "metadata": {},
     "source": [
      "Now let's break the text up into tokens, and then count how often each token occurs."
     ]
    },
    {
     "cell_type": "code",
     "collapsed": false,
     "input": [
      "def tokens(text):\n",
      "    \"\"\"List all the word tokens (consecutive letters) in a text. \n",
      "    Normalize to lowercase.\"\"\"\n",
      "    return re.findall('[a-z]+', text.lower()) \n",
      "\n",
      "assert tokens('This is a test.') == ['this', 'is', 'a', 'test']\n",
      "\n",
      "WORDS = Counter(tokens(BIG))"
     ],
     "language": "python",
     "metadata": {},
     "outputs": []
    },
    {
     "cell_type": "markdown",
     "metadata": {},
     "source": [
      "What's a Counter?"
     ]
    },
    {
     "cell_type": "code",
     "collapsed": false,
     "input": [
      "Counter(tokens('Is this a test? It is!'))"
     ],
     "language": "python",
     "metadata": {},
     "outputs": []
    },
    {
     "cell_type": "code",
     "collapsed": false,
     "input": [
      "print WORDS.most_common(20)"
     ],
     "language": "python",
     "metadata": {},
     "outputs": []
    },
    {
     "cell_type": "code",
     "collapsed": false,
     "input": [
      "print len(WORDS), sum(WORDS.values())"
     ],
     "language": "python",
     "metadata": {},
     "outputs": []
    },
    {
     "cell_type": "code",
     "collapsed": false,
     "input": [
      "for w in ['the', 'unusual', 'characteristically', 'neverbeforeseen']:\n",
      "    print w, WORDS[w]"
     ],
     "language": "python",
     "metadata": {},
     "outputs": []
    },
    {
     "cell_type": "markdown",
     "metadata": {},
     "source": [
      "(2) Task: Spelling Correction\n",
      "========\n",
      "\n",
      "Given a word *w*, find the most likely correction *c* = `correct(`*w*`)`.\n",
      "\n",
      "Approach: Try all candidates *c* that are near *w*.  Choose the most likely one.\n",
      "\n",
      "How to balance *near* and *likely*?\n",
      "\n",
      "For now, in a trivial way: always prefer nearer, but when there is a tie on nearness, use the word with the highest `WORDS` count.  Measure nearness by *edit distance*: the minimum number of deletions, transpositions, insertions, or replacements. We will define a function `edits1(word)` to return the set of candidate words that are one edit away. For example, given `\"wird\"`, this would include `\"weird\"` (inserting an `e`) and `\"word\"` (replacing a `i` with a `o`), and also `\"iwrd\"` (transposing `w` and `i`).\n",
      "How could we get them?  One way is to split the original word in all possible places, forming a pair of words before and after the place (where one word might be empty), and at each place, either delete, transpose, replace, or insert a letter:\n",
      "\n",
      "<table>\n",
      "  <tr><td> pairs: <td><tt> \u00d8+wird <td><tt> w+ird <td><tt> wi+rd <td><tt>wir+d<td><tt>wird+\u00d8\n",
      "  <tr><td> deletions: <td><tt>\u00d8+ird<td><tt> w+rd<td><tt> wi+d<td><tt> wir+\u00d8</tt>\n",
      "  <tr><td> transpositions: <td><tt>\u00d8+iwrd<td><tt> w+rid<td><tt> wi+dr</tt>\n",
      "  <tr><td> replacements: <td><tt>\u00d8+?+ird<td><tt> w+?+rd<td><tt> wi+?+d<td><tt> wir+?</tt>\n",
      "  <tr><td> insertions: <td><tt>\u00d8+?+wird<td><tt> w+?+ird<td><tt> wi+?+rd<td><tt> wir+?+d<td><tt> wird+?+\u00d8</tt>\n",
      "</table>"
     ]
    },
    {
     "cell_type": "code",
     "collapsed": false,
     "input": [
      "def edits1(word):\n",
      "    \"Return all strings that are one edit away from this word.\"\n",
      "    pairs      = splits(word)\n",
      "    deletes    = [a+b[1:]           for (a, b) in pairs if b]\n",
      "    transposes = [a+b[1]+b[0]+b[2:] for (a, b) in pairs if len(b) > 1]\n",
      "    replaces   = [a+c+b[1:]         for (a, b) in pairs for c in alphabet if b]\n",
      "    inserts    = [a+c+b             for (a, b) in pairs for c in alphabet]\n",
      "    return set(deletes + transposes + replaces + inserts)\n",
      "\n",
      "def splits(word):\n",
      "    \"Return a list of all possible (first, rest) pairs that comprise word.\"\n",
      "    return [(word[:i], word[i:]) \n",
      "            for i in range(len(word)+1)]\n",
      "\n",
      "alphabet = 'abcdefghijklmnopqrstuvwxyz'"
     ],
     "language": "python",
     "metadata": {},
     "outputs": []
    },
    {
     "cell_type": "code",
     "collapsed": false,
     "input": [
      "splits('wird')"
     ],
     "language": "python",
     "metadata": {},
     "outputs": []
    },
    {
     "cell_type": "markdown",
     "metadata": {},
     "source": [
      "Now we're ready to write `correct(word)` to consider candidates up to some edit distance away (I think edit distance 2 will do), and choose the most common one with the lowest edit distance.  We will define `known(words)` to return the subset of words that are known (in the dictionary)."
     ]
    },
    {
     "cell_type": "code",
     "collapsed": false,
     "input": [
      "def correct(word):\n",
      "    \"Find the best spelling correction for this word.\"\n",
      "    # Prefer edit distance 0, then 1, then 2; otherwise default to word itself.\n",
      "    candidates = (known(edits0(word)) or \n",
      "                  known(edits1(word)) or \n",
      "                  known(edits2(word)) or [word])\n",
      "    return max(candidates, key=WORDS.get)"
     ],
     "language": "python",
     "metadata": {},
     "outputs": []
    },
    {
     "cell_type": "code",
     "collapsed": false,
     "input": [
      "def known(words):\n",
      "    \"Return the subset of words that are actually in the dictionary.\"\n",
      "    return filter(WORDS.get, words)\n",
      "\n",
      "def edits0(word): return {word}\n",
      "\n",
      "def edits2(word):\n",
      "    \"Return all strings that are two edits away from this word.\"\n",
      "    return set(e2 for e1 in edits1(word) for e2 in edits1(e1))"
     ],
     "language": "python",
     "metadata": {},
     "outputs": []
    },
    {
     "cell_type": "code",
     "collapsed": false,
     "input": [
      "print edits0('wird')\n",
      "print edits1('wird')"
     ],
     "language": "python",
     "metadata": {},
     "outputs": []
    },
    {
     "cell_type": "code",
     "collapsed": false,
     "input": [
      "print len(edits2('wird'))"
     ],
     "language": "python",
     "metadata": {},
     "outputs": []
    },
    {
     "cell_type": "code",
     "collapsed": false,
     "input": [
      "alphabet = '_'\n",
      "print sorted(edits1('wird'))\n",
      "print\n",
      "print sorted(edits2('wird'))\n",
      "alphabet = 'abcdefghijklmnopqrstuvwxyz'"
     ],
     "language": "python",
     "metadata": {},
     "outputs": []
    },
    {
     "cell_type": "code",
     "collapsed": false,
     "input": [
      "map(correct, tokens('Speling errurs in somethink. Whutever; unusuel misteakes?'))"
     ],
     "language": "python",
     "metadata": {},
     "outputs": []
    },
    {
     "cell_type": "markdown",
     "metadata": {},
     "source": [
      "Can we make the output prettier than that?"
     ]
    },
    {
     "cell_type": "code",
     "collapsed": false,
     "input": [
      "def correct_text(text):\n",
      "    \"Correct all the words within a text, returning the corrected text.\"\n",
      "    return re.sub('[a-zA-Z]+', correct_match, text)\n",
      "\n",
      "def correct_match(match):\n",
      "    \"Spell-correct word in match, and preserve proper upper/lower/title case.\"\n",
      "    word = match.group()\n",
      "    return case_of(word)(correct(word.lower()))\n",
      "\n",
      "def case_of(text):\n",
      "    \"Return the case-function appropriate for text: upper, lower, title, or just str.\"\n",
      "    return (str.upper if text.isupper() else\n",
      "            str.lower if text.islower() else\n",
      "            str.title if text.istitle() else\n",
      "            str)"
     ],
     "language": "python",
     "metadata": {},
     "outputs": []
    },
    {
     "cell_type": "code",
     "collapsed": false,
     "input": [
      "map(case_of, ['UPPER', 'lower', 'Title', 'CamelCase'])"
     ],
     "language": "python",
     "metadata": {},
     "outputs": []
    },
    {
     "cell_type": "code",
     "collapsed": false,
     "input": [
      "correct_text('Speling Errurs IN somethink. Whutever; unusuel misteakes?')"
     ],
     "language": "python",
     "metadata": {},
     "outputs": []
    },
    {
     "cell_type": "code",
     "collapsed": false,
     "input": [
      "correct_text('Audiance sayss:')"
     ],
     "language": "python",
     "metadata": {},
     "outputs": []
    },
    {
     "cell_type": "markdown",
     "metadata": {},
     "source": [
      "(3) Theory: From Counts to Probabilities of Word Sequences\n",
      "===\n",
      "\n",
      "What is the probability of a sequence of words?\n",
      "\n",
      "$P(w_1 \\ldots w_n) = P(w_1) \\times P(w_2 \\mid w_1) \\times P(w_3 \\mid w_1 w_2) \\ldots  \\times \\ldots P(w_n \\mid w_1 \\ldots w_{n-1})$\n",
      "\n",
      "A wrong approximation:\n",
      "    \n",
      "$P(w_1 \\ldots w_n) = P(w_1) \\times P(w_2) \\times P(w_3) \\ldots  \\times \\ldots P(w_n)$\n",
      "\n",
      "This is called the *bag of words* model: it is equivalent to taking all the words from a text, cutting them into slips of paper with one word each, putting them in a paper bag, shaking it up, and drawing words out one at a time.\n",
      "    \n",
      "<img src=\"http://upload.wikimedia.org/wikipedia/commons/thumb/a/a2/GeorgeEPBox.jpg/200px-GeorgeEPBox.jpg\"> *All models are wrong, but some are useful.* -- George Box\n",
      "    \n",
      "A less-wrong approximation:\n",
      "    \n",
      "$P(w_1 \\ldots w_n) = P(w_1) \\times P(w_2 \\mid w_1) \\times P(w_3 \\mid w_2) \\ldots  \\times \\ldots P(w_n \\mid w_{n-1})$\n",
      "\n",
      "This is called the *bigram* model, and is equivalent to doing the same, but making slips of paper with two words on them, and having multiple bags, and putting each slip into a bag labelled with the first word on the slip.\n",
      "\n",
      "Let's start by defining the probability of a string of words based on a bag of words model:"
     ]
    },
    {
     "cell_type": "code",
     "collapsed": false,
     "input": [
      "def Pwords(words):\n",
      "    \"Probability of words, assuming each word is independent of others.\"\n",
      "    return product(Pword(w) for w in words)\n",
      "\n",
      "def product(nums):\n",
      "    \"Multiply the numbers together.  (Like `sum`, but with multiplication.)\"\n",
      "    result = 1\n",
      "    for x in nums:\n",
      "        result *= x\n",
      "    return result\n",
      "\n",
      "def pdist(counter):\n",
      "    \"Make a probability distribution, given evidence from a Counter.\"\n",
      "    N = sum(counter.values())\n",
      "    return lambda x: counter[x]/N\n",
      "\n",
      "Pword = pdist(WORDS)"
     ],
     "language": "python",
     "metadata": {},
     "outputs": []
    },
    {
     "cell_type": "code",
     "collapsed": false,
     "input": [
      "tests = ['this is a test', 'this is a unusual test',\n",
      "         'this is a neverbeforeseen test']\n",
      "\n",
      "for test in tests:\n",
      "    print Pwords(tokens(test)), test"
     ],
     "language": "python",
     "metadata": {},
     "outputs": []
    },
    {
     "cell_type": "markdown",
     "metadata": {},
     "source": [
      "(4) Task: Word Segmentation\n",
      "====\n",
      "\n",
      "Task: *given a sequence of characters with no spaces separating words, recover the sequence of words.*\n",
      "   \n",
      "\n",
      "Why? Languages with no word delimiters: [\u4e0d\u5e26\u7a7a\u683c\u7684\u8bdd](http://translate.google.com/#auto/en/%E4%B8%8D%E5%B8%A6%E7%A9%BA%E6%A0%BC%E7%9A%84%E8%AF%9D)\n",
      "\n",
      "In English, sub-genres with no word delimiters (spelling errors, URLs):\n",
      "[1](http://choosespain.com)\n",
      "[2](http://speedofart.com)\n",
      "\n",
      "Approach 1: *Enumerate all candidate segementations and choose the one with highest Pwords*\n",
      "\n",
      "Problem: how many segmentations are there for an *n*-character text?\n",
      "\n",
      "Approach 2: *Make one segmentation, into a first word and remaining characters.  If we assume words are independent \n",
      "(a wrong assumption) then we can maximize the probability of the first word adjoined to the best segmentation of the remaining characters.*\n",
      "    \n",
      "    assert segment('choosespain') == ['choose', 'spain']\n",
      "\n",
      "    segment('choosespain') ==\n",
      "       max(Pwords(['c'] + segment('hoosespain')),\n",
      "           Pwords(['ch'] + segment('oosespain')),\n",
      "           Pwords(['cho'] + segment('osespain')),\n",
      "           Pwords(['choo'] + segment('sespain')),\n",
      "           ...\n",
      "           Pwords(['choosespain'] + segment('')))\n",
      "       \n",
      "    \n",
      "       \n",
      "To make this somewhat efficient, we need to avoid re-computing the segmentations of the remaining characters.  This can be done explicitly by *dynamic programming* or implicitly with *memoization*. Also, we shouldn't consider all possible lengths for the first word; we can impose a maximum length.  What should it be?  A little more than the longest word seen so far."
     ]
    },
    {
     "cell_type": "code",
     "collapsed": false,
     "input": [
      "def memo(f):\n",
      "    \"Memoize function f, whose args must all be hashable.\"\n",
      "    cache = {}\n",
      "    def fmemo(*args):\n",
      "        if args not in cache:\n",
      "            cache[args] = f(*args)\n",
      "        return cache[args]\n",
      "    fmemo.cache = cache\n",
      "    return fmemo"
     ],
     "language": "python",
     "metadata": {},
     "outputs": []
    },
    {
     "cell_type": "code",
     "collapsed": false,
     "input": [
      "max(map(len, WORDS))"
     ],
     "language": "python",
     "metadata": {},
     "outputs": []
    },
    {
     "cell_type": "code",
     "collapsed": false,
     "input": [
      "@memo\n",
      "def segment(text):\n",
      "    \"Return a list of words that is the most probable segmentation of text.\"\n",
      "    if not text: \n",
      "        return []\n",
      "    else:\n",
      "        candidates = ([first] + segment(rest) \n",
      "                      for (first, rest) in splits(text, 1))\n",
      "        return max(candidates, key=Pwords)\n",
      "\n",
      "def splits(text, start=0, L=20):\n",
      "    \"Return a list of all (first, rest) pairs; with start<=len(first)<=L.\"\n",
      "    return [(text[:i], text[i:]) \n",
      "            for i in range(start, min(len(text), L)+1)]"
     ],
     "language": "python",
     "metadata": {},
     "outputs": []
    },
    {
     "cell_type": "code",
     "collapsed": false,
     "input": [
      "print splits('word')\n",
      "print splits('reallylongtext', 1, 4)"
     ],
     "language": "python",
     "metadata": {},
     "outputs": []
    },
    {
     "cell_type": "code",
     "collapsed": false,
     "input": [
      "segment('choosespain')"
     ],
     "language": "python",
     "metadata": {},
     "outputs": []
    },
    {
     "cell_type": "code",
     "collapsed": false,
     "input": [
      "decl = tokens(\"\"\"When in the Course of human events, it becomes necessary \n",
      "              for one people to dissolve the political bands which have \n",
      "              connected them with another, , and to assume among \n",
      "              the powers of the earth, the separate and equal station \n",
      "              to which the Laws of Nature and of Nature's God entitle them\"\"\")\n",
      "\n",
      "cat = ''.join\n",
      "\n",
      "print cat(decl)\n",
      "\n",
      "print segment(cat(decl))"
     ],
     "language": "python",
     "metadata": {},
     "outputs": []
    },
    {
     "cell_type": "code",
     "collapsed": false,
     "input": [
      "Pwords(decl)"
     ],
     "language": "python",
     "metadata": {},
     "outputs": []
    },
    {
     "cell_type": "code",
     "collapsed": false,
     "input": [
      "segment('smallandinsignificantamounts')"
     ],
     "language": "python",
     "metadata": {},
     "outputs": []
    },
    {
     "cell_type": "code",
     "collapsed": false,
     "input": [
      "segment('largeandinsignificantamounts')"
     ],
     "language": "python",
     "metadata": {},
     "outputs": []
    },
    {
     "cell_type": "markdown",
     "metadata": {},
     "source": [
      "Summary:\n",
      "    \n",
      "- Looks pretty good!\n",
      "- The bag-of-words assumption is a limitation.\n",
      "- Recomputing Pwords on each recursive call is somewhat inefficient.\n",
      "- At 50 words, we're at 1.5e-141; getting \"close\" to the limit of around 1e-323, which should get us only to about 100 words.  Beyond that, we'll need to use logarithms, or other tricks to avoid numeric underflow.\n",
      "\n",
      "For now, let's do just one thing: replace bag-of-words with bigrams."
     ]
    },
    {
     "cell_type": "heading",
     "level": 1,
     "metadata": {},
     "source": [
      "(5) Data: Mo' Data, Mo' Better"
     ]
    },
    {
     "cell_type": "markdown",
     "metadata": {},
     "source": [
      "Let's move up from millions to billions of words.  Once we have that amount of data, we can start to look at two word sequences, without them being too sparse.  I happen to have data files available in the format of `\"word \\t count\"`, and bigram data in the form of `\"word1 word2 \\t count\"`.  Let's arrange to read them in:"
     ]
    },
    {
     "cell_type": "code",
     "collapsed": false,
     "input": [
      "def load_counts(filename, sep='\\t'):\n",
      "    \"\"\"Return a Counter initialized from key-value pairs, \n",
      "    one on each line of filename.\"\"\"\n",
      "    C = Counter()\n",
      "    for line in open(filename):\n",
      "        key, count = line.split(sep)\n",
      "        C[key] = int(count)\n",
      "    return C\n",
      "\n",
      "WORDS1 = load_counts('count_1w.txt')\n",
      "WORDS2 = load_counts('count_2w.txt')\n",
      "\n",
      "P1w = pdist(WORDS1)\n",
      "P2w = pdist(WORDS2)"
     ],
     "language": "python",
     "metadata": {},
     "outputs": []
    },
    {
     "cell_type": "code",
     "collapsed": false,
     "input": [
      "print len(WORDS1), sum(WORDS1.values())\n",
      "print len(WORDS2), sum(WORDS2.values())"
     ],
     "language": "python",
     "metadata": {},
     "outputs": []
    },
    {
     "cell_type": "code",
     "collapsed": false,
     "input": [
      "WORDS2.most_common(30)"
     ],
     "language": "python",
     "metadata": {},
     "outputs": []
    },
    {
     "cell_type": "markdown",
     "metadata": {},
     "source": [
      "(6) Theory and Practice: Segmentation With Bigram Data\n",
      "===\n",
      "\n",
      "Recall that the less-wrong bigram model approximation to English is:\n",
      "    \n",
      "$P(w_1 \\ldots w_n) = P(w_1) \\times P(w_2 \\mid w_1) \\times P(w_3 \\mid w_2) \\ldots  \\times \\ldots P(w_n \\mid w_{n-1})$\n",
      "\n",
      "where the conditional probability of a word given the previous word is defined as:\n",
      "\n",
      "$P(w_n \\mid w_{n-1}) = P(w_{n-1}w_n) / P(w_{n-1}) $"
     ]
    },
    {
     "cell_type": "code",
     "collapsed": false,
     "input": [
      "def Pwords2(words, prev='<S>'):\n",
      "    \"The probability of a sequence of words, using bigram data, given prev word.\"\n",
      "    return product(cPword(w, (prev if (i == 0) else words[i-1]) )\n",
      "                   for (i, w) in enumerate(words))\n",
      "\n",
      "# Change Pwords to use P1w instead of Pword\n",
      "def Pwords(words):\n",
      "    \"Probability of words, assuming each word is independent of others.\"\n",
      "    return product(P1w(w) for w in words)\n",
      "\n",
      "def cPword(word, prev):\n",
      "    \"Conditional probability of word, given previous word.\"\n",
      "    bigram = prev + ' ' + word\n",
      "    if P2w(bigram) > 0 and P1w(prev) > 0:\n",
      "        return P2w(bigram) / P1w(prev)\n",
      "    else: # Average the back-off value and zero.\n",
      "        return P1w(word) / 2"
     ],
     "language": "python",
     "metadata": {},
     "outputs": []
    },
    {
     "cell_type": "code",
     "collapsed": false,
     "input": [
      "print Pwords(tokens('this is a test'))\n",
      "print Pwords2(tokens('this is a test'))\n",
      "print Pwords2(tokens('is test a this'))"
     ],
     "language": "python",
     "metadata": {},
     "outputs": []
    },
    {
     "cell_type": "markdown",
     "metadata": {},
     "source": [
      "To make `segment2`, we copy `segment`, and make sure to pass around the previous token, and to evaluate probabilities with `Pwords2` instead of `Pwords`."
     ]
    },
    {
     "cell_type": "code",
     "collapsed": false,
     "input": [
      "@memo \n",
      "def segment2(text, prev='<S>'): \n",
      "    \"Return best segmentation of text; use bigram data.\" \n",
      "    if not text: \n",
      "        return []\n",
      "    else:\n",
      "        candidates = ([first] + segment2(rest, first) \n",
      "                      for (first, rest) in splits(text, 1))\n",
      "        return max(candidates, key=lambda words: Pwords2(words, prev))"
     ],
     "language": "python",
     "metadata": {},
     "outputs": []
    },
    {
     "cell_type": "code",
     "collapsed": false,
     "input": [
      "print segment2('choosespain')\n",
      "print segment2('smallandinsignificantamounts')\n",
      "print segment2('largeandinsignificantamounts')"
     ],
     "language": "python",
     "metadata": {},
     "outputs": []
    },
    {
     "cell_type": "code",
     "collapsed": false,
     "input": [
      "adams = ('faroutintheunchartedbackwatersoftheunfashionableendofthewesternspiral'\n",
      "         + 'armofthegalaxyliesasmallunregardedyellowsun')\n",
      "print segment(adams)\n",
      "print segment2(adams)"
     ],
     "language": "python",
     "metadata": {},
     "outputs": []
    },
    {
     "cell_type": "code",
     "collapsed": false,
     "input": [
      "tolkein = 'adrybaresandyholewithnothinginittositdownonortoeat'\n",
      "print segment(tolkein)\n",
      "print segment2(tolkein)"
     ],
     "language": "python",
     "metadata": {},
     "outputs": []
    },
    {
     "cell_type": "markdown",
     "metadata": {},
     "source": [
      "Conclusion?"
     ]
    },
    {
     "cell_type": "markdown",
     "metadata": {},
     "source": [
      "(7) Theory: Evaluation\n",
      "===\n",
      "\n",
      "So far, we've got an intuitive feel for how this all works.  But we don't have any solid metrics that quantify the results.  Without metrics, we can't say if we are doing well, nor if a change is an improvement. In general,\n",
      "when developing a program that relies on data to help make\n",
      "predictions, it is good practice to divide your data into three sets:\n",
      "<ol>\n",
      "  <li> <b>Training set:</b> the data used to create our spelling\n",
      "  model; this was the <tt>big.txt</tt> file.\n",
      "  <li> <b>Development set:</b> a set of input/output pairs that we can\n",
      "  use to rank the performance of our program as we are developing it.\n",
      "  <li> <b>Test set:</b> another set of input/output pairs that we use\n",
      "  to rank our program <i>after</i> we are done developing it.  The\n",
      "  development set can't be used for this purpose&mdash;once the\n",
      "  programmer has looked at the development test it is tainted, because\n",
      "  the programmer might modify the program just to pass the development\n",
      "  test.  That's why we need a separate test set that is only looked at\n",
      "  after development is done.\n",
      "</ol>\n",
      "\n",
      "For this program, the training data is the word frequency counts, the development set is the examples like `\"choosespain\"` that we have been playing with, and now we need a test set."
     ]
    },
    {
     "cell_type": "code",
     "collapsed": false,
     "input": [
      "def test_segmenter(segmenter, tests):\n",
      "    \"Try segmenter on tests; report failures; return fraction correct.\"\n",
      "    return sum([test_one_segment(segmenter, test) \n",
      "               for test in tests]), len(tests)\n",
      "\n",
      "def test_one_segment(segmenter, test):\n",
      "    words = tokens(test)\n",
      "    result = segmenter(cat(words))\n",
      "    correct = (result == words)\n",
      "    if not correct:\n",
      "        print 'expected', words\n",
      "        print 'got     ', result\n",
      "    return correct\n",
      "\n",
      "proverbs = (\"\"\"A little knowledge is a dangerous thing\n",
      "  A man who is his own lawyer has a fool for his client\n",
      "  All work and no play makes Jack a dull boy\n",
      "  Better to remain silent and be thought a fool that to speak and remove all doubt;\n",
      "  Do unto others as you would have them do to you\n",
      "  Early to bed and early to rise, makes a man healthy, wealthy and wise\n",
      "  Fools rush in where angels fear to tread\n",
      "  Genius is one percent inspiration, ninety-nine percent perspiration\n",
      "  If you lie down with dogs, you will get up with fleas\n",
      "  Lightning never strikes twice in the same place\n",
      "  Power corrupts; absolute power corrupts absolutely\n",
      "  Here today, gone tomorrow\n",
      "  See no evil, hear no evil, speak no evil\n",
      "  Sticks and stones may break my bones, but words will never hurt me\n",
      "  Take care of the pence and the pounds will take care of themselves\n",
      "  Take care of the sense and the sounds will take care of themselves\n",
      "  The bigger they are, the harder they fall\n",
      "  The grass is always greener on the other side of the fence\n",
      "  The more things change, the more they stay the same\n",
      "  Those who do not learn from history are doomed to repeat it\"\"\"\n",
      "  .splitlines())"
     ],
     "language": "python",
     "metadata": {},
     "outputs": []
    },
    {
     "cell_type": "code",
     "collapsed": false,
     "input": [
      "test_segmenter(segment, proverbs)"
     ],
     "language": "python",
     "metadata": {},
     "outputs": []
    },
    {
     "cell_type": "code",
     "collapsed": false,
     "input": [
      "test_segmenter(segment2, proverbs)"
     ],
     "language": "python",
     "metadata": {},
     "outputs": []
    },
    {
     "cell_type": "markdown",
     "metadata": {},
     "source": [
      "This confirms that both segmenters are very good, and that `segment2` is slightly better. There is much more that can be done in terms of the variety of tests, and in measuring statistical significance."
     ]
    },
    {
     "cell_type": "markdown",
     "metadata": {},
     "source": [
      "(8) Smoothing\n",
      "======\n",
      "\n",
      "Let's go back to a test we did before, and add two more test cases:\n"
     ]
    },
    {
     "cell_type": "code",
     "collapsed": false,
     "input": [
      "tests = ['this is a test', \n",
      "         'this is a unusual test',\n",
      "         'this is a nongovernmental test',\n",
      "         'this is a neverbeforeseen test',\n",
      "         'this is a zqbhjhsyefvvjqc test']\n",
      "\n",
      "for test in tests:\n",
      "    print Pwords(tokens(test)), test"
     ],
     "language": "python",
     "metadata": {},
     "outputs": []
    },
    {
     "cell_type": "markdown",
     "metadata": {},
     "source": [
      "The issue here is the finality of a probability of zero.  Out of the three 15-letter words, it turns out that \"nongovernmental\" is in the dictionary, but if it hadn't been, if somehow our corpus of words had missed it, then the probability of that whole phrase would have been zero.  It seems that is too strict; there must be some \"real\" words that are not in our dictionary, so we shouldn't give them probability zero.  There is also a question of likelyhood of being a \"real\" word.  It does seem that \"neverbeforeseen\" is more English-like than \"zqbhjhsyefvvjqc\", and so perhaps should have a higher probability.\n",
      "\n",
      "We can address this by assigning a non-zero probability to words that are not in the dictionary.  This is even more important when it comes to multi-word phrases (such as bigrams), because it is more likely that a legitimate one will appear that has not been observed before.\n",
      "\n",
      "We can think of our model as being overly spiky; it has a spike of probability mass wherever a word or phrase occurs in the corpus.  What we would like to do is *smooth* over those spikes so that we get a model that does not depend on the details of our corpus. The process of \"fixing\" the model is called *smoothing*.\n",
      "\n",
      "<img src=\"http://upload.wikimedia.org/wikipedia/commons/thumb/e/e3/Pierre-Simon_Laplace.jpg/220px-Pierre-Simon_Laplace.jpg\"> \n",
      "<img src=\"http://www.hdwallpapers.in/walls/notre_dame_at_sunrise_paris_france-normal.jpg\" width=400 height=300>\n",
      "<br>*Pierre Simon Laplace, 1749-1827*"
     ]
    },
    {
     "cell_type": "code",
     "collapsed": false,
     "input": [
      "def pdist_additive_smoothed(counter, c=1):\n",
      "    \"\"\"The probability of word, given evidence from the counter.\n",
      "    Add c to the count for each item, plus the 'unknown' item.\"\"\"\n",
      "    N = sum(counter.values())\n",
      "    Nnew = N + c * (len(counter) + 1) # add new fake observations\n",
      "    return lambda word: (counter[word] + c) / Nnew \n",
      "\n",
      "P1w = pdist_additive_smoothed(WORDS1)"
     ],
     "language": "python",
     "metadata": {},
     "outputs": []
    },
    {
     "cell_type": "code",
     "collapsed": false,
     "input": [
      "P1w('neverbeforeseen')"
     ],
     "language": "python",
     "metadata": {},
     "outputs": []
    },
    {
     "cell_type": "markdown",
     "metadata": {},
     "source": [
      "But now there's a problem ... we now have previously-unseen words with non-zero probabilities.  And maybe 10<sup>-12</sup> is about right for words that are observed in text: that is, if I'm *reading* a new text, the probability that the next word is unknown might be around 10<sup>-12</sup>.  But if I'm *manufacturing* 20-letter sequences at random, the probability that one will be a word is much, much lower than 10<sup>-12</sup>.  \n",
      "\n",
      "Look what happens:"
     ]
    },
    {
     "cell_type": "code",
     "collapsed": false,
     "input": [
      "segment('thisisatestofsegmentationofalongsequenceofwords')"
     ],
     "language": "python",
     "metadata": {},
     "outputs": []
    },
    {
     "cell_type": "markdown",
     "metadata": {},
     "source": [
      "There are two problems:\n",
      "    \n",
      "First, we don't have a clear model of the unknown words.  We just say \"unkown\" but\n",
      "we don't distinguish likely unknown from unlikely unknown.  For example, is a 8-character unknown more likely than a 20-character unknown?\n",
      "\n",
      "Second, we don't take into account evidence from *parts* of the unknown.  For example, letter subsequences of words, or (*n*-1)-gram subsequences of *n*-grams.\n",
      "\n",
      "For our next approach, *Good - Turing* smoothing re-estimates the probability of zero-count words, based on the probability of one-count words (and can also re-estimate for higher-number counts, but that is less interesting).\n",
      "\n",
      "<img src=\"http://www.acceleratingfuture.com/michael/blog/images/I.J.%20Good.jpg\">\n",
      "<img src=\"http://upload.wikimedia.org/wikipedia/en/thumb/c/c8/Alan_Turing_photo.jpg/200px-Alan_Turing_photo.jpg\">\n",
      "<br><i>I. J. Good (1916 - 2009) &nbsp; &nbsp; &nbsp; &nbsp; &nbsp; &nbsp; Alan Turing (1812 - 1954)</i>\n",
      "\n",
      "So, how many one-count words are there in `WORDS`?  (There aren't any in `WORDS1`.)  And what are the word lengths of them?  Let's find out:\n"
     ]
    },
    {
     "cell_type": "code",
     "collapsed": false,
     "input": [
      "lengths = map(len, [w for w in WORDS if WORDS[w] == 1])\n",
      "\n",
      "Counter(lengths).most_common()"
     ],
     "language": "python",
     "metadata": {},
     "outputs": []
    },
    {
     "cell_type": "code",
     "collapsed": false,
     "input": [
      "1357 / sum(WORDS.values())"
     ],
     "language": "python",
     "metadata": {},
     "outputs": []
    },
    {
     "cell_type": "code",
     "collapsed": false,
     "input": [
      "hist(lengths, bins=len(Counter(lengths)));"
     ],
     "language": "python",
     "metadata": {},
     "outputs": []
    },
    {
     "cell_type": "code",
     "collapsed": false,
     "input": [
      "def pdist_good_turing_hack(counter, onecounter, base=1/26., prior=1e-9):\n",
      "    \"\"\"The probability of word, given evidence from the counter.\n",
      "    For unknown words, look at the one-counts from onecounter, based on length.\n",
      "    This gets ideas from Good-Turing, but doesn't implement all of it.\n",
      "    prior is an additional factor to make unknowns less likely.\n",
      "    base is how much we attenuate probability for each letter beyond longest.\"\"\"\n",
      "    N = sum(counter.values())\n",
      "    N2 = sum(onecounter.values())\n",
      "    lengths = map(len, [w for w in onecounter if onecounter[w] == 1])\n",
      "    ones = Counter(lengths)\n",
      "    longest = max(ones)\n",
      "    return (lambda word: \n",
      "            counter[word] / N if (word in counter) \n",
      "            else prior * (ones[len(word)] / N2 or \n",
      "                          ones[longest] / N2 * base ** (len(word)-longest)))\n",
      "\n",
      "# Redefine P1w\n",
      "P1w = pdist_good_turing_hack(WORDS1, WORDS)"
     ],
     "language": "python",
     "metadata": {},
     "outputs": []
    },
    {
     "cell_type": "code",
     "collapsed": false,
     "input": [
      "segment.cache.clear()\n",
      "segment('thisisatestofsegmentationofalongsequenceofwords')"
     ],
     "language": "python",
     "metadata": {},
     "outputs": []
    },
    {
     "cell_type": "markdown",
     "metadata": {},
     "source": [
      "That was somewhat unsatisfactory.  We really had to crank up the prior, specifically because the process of running `segment` generates so many non-word candidates (and also because there will be fewer unknowns with respect to the billion-word `WORDS1` than with respect to the million-word `WORDS`).  It would be better to separate out the prior from the word distribution, so that the same distribution could be used for multiple tasks, not just for this one.\n",
      "\n",
      "Now let's think for a short while about smoothing **bigram** counts.  Specifically, what if we haven't seen a bigram sequence, but we've seen both words individually?  For example, to evaluate P(\"Greenland\") in the phrase \"turn left at Greenland\", we might have three pieces of evidence:\n",
      "\n",
      "    P(\"Greenland\")\n",
      "    P(\"Greenland\" | \"at\")\n",
      "    P(\"Greenland\" | \"left\", \"at\")\n",
      "    \n",
      "Presumably, the first would have a relatively large count, and thus large reliability, while the second and third would have decreasing counts and reliability.  With *interpolation smoothing* we combine all three pieces of evidence, with a linear combination:\n",
      "    \n",
      "$P(w_3 \\mid w_1w_2) = c_1 P(w_3) + c_2 P(w_3 \\mid w_2) + c_3 P(w_3 \\mid w_1w_2)$\n",
      "\n",
      "How do we choose $c_1, c_2, c_3$?  By experiment: train on training data, maximize $c$ values on development data, then evaluate on test data.\n",
      "    \n",
      "However, when we do this, we are saying, with probability $c_1$, that a word can appear anywhere, regardless of previous words.  But some words are more free to do that than other words.  Consider two words with similar probability:"
     ]
    },
    {
     "cell_type": "code",
     "collapsed": false,
     "input": [
      "print P1w('francisco')\n",
      "print P1w('individuals')"
     ],
     "language": "python",
     "metadata": {},
     "outputs": []
    },
    {
     "cell_type": "markdown",
     "metadata": {},
     "source": [
      "They have similar unigram probabilities but differ in their freedom to be the second word of a bigram:"
     ]
    },
    {
     "cell_type": "code",
     "collapsed": false,
     "input": [
      "print [bigram for bigram in WORDS2 if bigram.endswith('francisco')]"
     ],
     "language": "python",
     "metadata": {},
     "outputs": []
    },
    {
     "cell_type": "code",
     "collapsed": false,
     "input": [
      "print [bigram for bigram in WORDS2 if bigram.endswith('individuals')]"
     ],
     "language": "python",
     "metadata": {},
     "outputs": []
    },
    {
     "cell_type": "markdown",
     "metadata": {},
     "source": [
      "Intuitively, words that appear in many bigrams before are more likely to appear in a new, previously unseen bigram. In *Kneser-Ney* smoothing (Reinhard Kneser, Hermann Ney) we multiply the bigram counts by this ratio.  But I won't implement that here, because The Count never covered it.\n",
      "\n",
      "(9) One More Task: Secret Codes\n",
      "===\n",
      "\n",
      "Let's tackle one more task: decoding secret codes.  We'll start with the simplest of codes, a rotation cipher, sometimes called a shift cipher or a Caesar cipher (because this was state-of-the-art crypotgraphy in 100 BC).  First, a method to encode:"
     ]
    },
    {
     "cell_type": "code",
     "collapsed": false,
     "input": [
      "def rot(msg, n=13): \n",
      "    \"Encode a message with a rotation (Caesar) cipher.\" \n",
      "    return encode(msg, alphabet[n:]+alphabet[:n])\n",
      "\n",
      "def encode(msg, key): \n",
      "    \"Encode a message with a substitution cipher.\" \n",
      "    table = string.maketrans(upperlower(alphabet), upperlower(key))\n",
      "    return msg.translate(table) \n",
      "\n",
      "def upperlower(text): return text.upper() + text.lower()  "
     ],
     "language": "python",
     "metadata": {},
     "outputs": []
    },
    {
     "cell_type": "code",
     "collapsed": false,
     "input": [
      "rot('This is a secret message.', 1)"
     ],
     "language": "python",
     "metadata": {},
     "outputs": []
    },
    {
     "cell_type": "code",
     "collapsed": false,
     "input": [
      "rot('This is a secret message.')"
     ],
     "language": "python",
     "metadata": {},
     "outputs": []
    },
    {
     "cell_type": "code",
     "collapsed": false,
     "input": [
      "rot(rot('This is a secret message.'))"
     ],
     "language": "python",
     "metadata": {},
     "outputs": []
    },
    {
     "cell_type": "markdown",
     "metadata": {},
     "source": [
      "Now decoding is easy: try all 26 candidates, and find the one with the maximum Pwords:"
     ]
    },
    {
     "cell_type": "code",
     "collapsed": false,
     "input": [
      "def decode_rot(secret):\n",
      "    \"Decode a secret message that has been encoded with a rotation cipher.\"\n",
      "    candidates = [rot(secret, i) for i in range(1, len(alphabet)+1)]\n",
      "    return max(candidates, key=lambda msg: Pwords(tokens(msg)))"
     ],
     "language": "python",
     "metadata": {},
     "outputs": []
    },
    {
     "cell_type": "code",
     "collapsed": false,
     "input": [
      "decode_rot(rot('This is a secret message.'))"
     ],
     "language": "python",
     "metadata": {},
     "outputs": []
    },
    {
     "cell_type": "markdown",
     "metadata": {},
     "source": [
      "Let's make it a tiny bit harder.  When the secret message contains separate words, it is too easy to decode by guessing that the one-letter words are most likely \"I\" or \"a\".  So what if the encode routine mushed all the letters together:"
     ]
    },
    {
     "cell_type": "code",
     "collapsed": false,
     "input": [
      "def encode(msg, key): \n",
      "    \"Encode a message with a substitution cipher; remove non-letters.\" \n",
      "    msg = cat(c for c in msg.lower() if c in alphabet)  ## Change here\n",
      "    table = string.maketrans(upperlower(alphabet), upperlower(key))\n",
      "    return msg.translate(table) "
     ],
     "language": "python",
     "metadata": {},
     "outputs": []
    },
    {
     "cell_type": "markdown",
     "metadata": {},
     "source": [
      "Now we can decode by segmenting.  We change candidates to be a list of segmentations, and still choose the candidate with the best Pwords: "
     ]
    },
    {
     "cell_type": "code",
     "collapsed": false,
     "input": [
      "def decode_rot(secret):\n",
      "    \"\"\"Decode a secret message that has been encoded with a rotation cipher,\n",
      "    and which has had all the non-letters squeezed out.\"\"\"\n",
      "    candidates = [segment(rot(secret, i)) for i in range(1, len(alphabet)+1)]\n",
      "    return max(candidates, key=lambda msg: Pwords(msg))"
     ],
     "language": "python",
     "metadata": {},
     "outputs": []
    },
    {
     "cell_type": "code",
     "collapsed": false,
     "input": [
      "rot('This is a secret message.')"
     ],
     "language": "python",
     "metadata": {},
     "outputs": []
    },
    {
     "cell_type": "code",
     "collapsed": false,
     "input": [
      "decode_rot(rot('This is a secret message.'))"
     ],
     "language": "python",
     "metadata": {},
     "outputs": []
    },
    {
     "cell_type": "markdown",
     "metadata": {},
     "source": [
      "What about a general substitution cipher?  The problem is that there are 26! substitution ciphers, and we can't enumerate all of them.  We would need to search through this space.  Initially make some guess at a substitution, then swap two letters; if that looks better keep going, if not try something else.  This approach solves most substitution cipher problems, although it can take a few minutes on a message of length 100 words or so.\n",
      "\n",
      "(\u221e and beyond) Where To Go Next\n",
      "===\n",
      "\n",
      "What to do next?  Here are some options:\n",
      "    \n",
      "- **Spelling correction**: Use bigram or trigram context; make a model of spelling errors/edit distance; go beyond edit distance 2; make it more efficient\n",
      "- **Evaluation**: Make a serious test suite; search for best parameters (e.g. $c_1, c_2, c_3$)\n",
      "- **Smoothing**: Implement Kneser-Ney and/or Interpolation; do letter *n*-gram-based smoothing\n",
      "- **Secret Codes**: Implement a search over substitution ciphers\n",
      "- **Classification**: Given a corpus of texts, each with a classification label, write a classifier that will take a new text and return a label.  Examples: spam/no-spam; favorable/unfavorable; what author am I most like; reading level"
     ]
    },
    {
     "cell_type": "code",
     "collapsed": false,
     "input": [],
     "language": "python",
     "metadata": {},
     "outputs": []
    }
   ],
   "metadata": {}
  }
 ]
}