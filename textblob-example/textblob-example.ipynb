{
 "metadata": {
  "name": ""
 },
 "nbformat": 3,
 "nbformat_minor": 0,
 "worksheets": [
  {
   "cells": [
    {
     "cell_type": "code",
     "collapsed": false,
     "input": [
      "#https://textblob.readthedocs.org/en/latest/index.html\n",
      "\n",
      "from textblob import TextBlob\n",
      "\n",
      "text = '''\n",
      "The titular threat of The Blob has always struck me as the ultimate movie\n",
      "monster: an insatiably hungry, amoeba-like mass able to penetrate\n",
      "virtually any safeguard, capable of--as a doomed doctor chillingly\n",
      "describes it--\"assimilating flesh on contact.\n",
      "Snide comparisons to gelatin be damned, it's a concept with the most\n",
      "devastating of potential consequences, not unlike the grey goo scenario\n",
      "proposed by technological theorists fearful of\n",
      "artificial intelligence run rampant.\n",
      "'''\n",
      "\n",
      "blob = TextBlob(text)\n",
      "blob.tags           # [(u'The', u'DT'), (u'titular', u'JJ'),\n",
      "                    #  (u'threat', u'NN'), (u'of', u'IN'), ...]\n",
      "\n",
      "blob.noun_phrases   # WordList(['titular threat', 'blob',\n",
      "                    #            'ultimate movie monster',\n",
      "                    #            'amoeba-like mass', ...])\n",
      "\n",
      "for sentence in blob.sentences:\n",
      "    print(sentence.sentiment.polarity)\n",
      "# 0.060\n",
      "# -0.341\n",
      "\n",
      "blob.translate(to=\"es\")  # 'La amenaza titular de The Blob...'"
     ],
     "language": "python",
     "metadata": {},
     "outputs": [],
     "prompt_number": "*"
    }
   ],
   "metadata": {}
  }
 ]
}