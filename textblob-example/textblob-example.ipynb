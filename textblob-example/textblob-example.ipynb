{
 "metadata": {
  "name": ""
 },
 "nbformat": 3,
 "nbformat_minor": 0,
 "worksheets": [
  {
   "cells": [
    {
     "cell_type": "code",
     "collapsed": false,
     "input": [
      "#https://textblob.readthedocs.org/en/latest/index.html\n",
      "\n",
      "from textblob import TextBlob\n",
      "\n",
      "text = '''\n",
      "The titular threat of The Blob has always struck me as the ultimate movie\n",
      "monster: an insatiably hungry, amoeba-like mass able to penetrate\n",
      "virtually any safeguard, capable of--as a doomed doctor chillingly\n",
      "describes it--\"assimilating flesh on contact.\n",
      "Snide comparisons to gelatin be damned, it's a concept with the most\n",
      "devastating of potential consequences, not unlike the grey goo scenario\n",
      "proposed by technological theorists fearful of\n",
      "artificial intelligence run rampant.\n",
      "'''\n",
      "\n",
      "blob = TextBlob(text)\n",
      "blob.tags           # [(u'The', u'DT'), (u'titular', u'JJ'),\n",
      "                    #  (u'threat', u'NN'), (u'of', u'IN'), ...]\n",
      "\n",
      "blob.noun_phrases   # WordList(['titular threat', 'blob',\n",
      "                    #            'ultimate movie monster',\n",
      "                    #            'amoeba-like mass', ...])\n",
      "\n",
      "for sentence in blob.sentences:\n",
      "    print(sentence.sentiment.polarity)\n",
      "# 0.060\n",
      "# -0.341\n",
      "\n",
      "blob.translate(to=\"es\")  # 'La amenaza titular de The Blob...'"
     ],
     "language": "python",
     "metadata": {},
     "outputs": [
      {
       "output_type": "stream",
       "stream": "stdout",
       "text": [
        "0.06\n",
        "-0.341666666667\n"
       ]
      },
      {
       "metadata": {},
       "output_type": "pyout",
       "prompt_number": 1,
       "text": [
        "TextBlob(\"La amenaza titular de The Blob siempre me ha parecido la pel\u00edcula final\n",
        "monstruo : una , la masa insaciablemente hambriento ameba capaz de penetrar\n",
        "pr\u00e1cticamente cualquier salvaguardia , capaz de - como m\u00e9dico condenado escalofriantemente\n",
        "lo describe - \" asimilar carne al contacto.\n",
        "Comparaciones Snide a la gelatina ser condenados , es un concepto con el m\u00e1s\n",
        "devastadora de las posibles consecuencias , no muy diferente del escenario plaga gris\n",
        "propuesto por los te\u00f3ricos tecnol\u00f3gicos temerosos de\n",
        "inteligencia artificial ejecutar rampante.\")"
       ]
      }
     ],
     "prompt_number": 1
    }
   ],
   "metadata": {}
  }
 ]
}