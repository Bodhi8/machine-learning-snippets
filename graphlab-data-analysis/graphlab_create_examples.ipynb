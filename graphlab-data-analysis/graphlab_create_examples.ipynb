{
 "metadata": {
  "name": "",
  "signature": "sha256:f21639d788006173f3520503723b94c280f5d66d37a2d7343b2801a466954f78"
 },
 "nbformat": 3,
 "nbformat_minor": 0,
 "worksheets": [
  {
   "cells": [
    {
     "cell_type": "code",
     "collapsed": false,
     "input": [
      "import graphlab as gl"
     ],
     "language": "python",
     "metadata": {},
     "outputs": [],
     "prompt_number": 3
    },
    {
     "cell_type": "code",
     "collapsed": false,
     "input": [
      "url = 'http://s3.amazonaws.com/GraphLab-Datasets/movie_ratings/training_data.csv'\n",
      "data = gl.SFrame.read_csv(url, column_type_hints={\"rating\":int})"
     ],
     "language": "python",
     "metadata": {},
     "outputs": [
      {
       "html": [
        "<pre>PROGRESS: Finished parsing file http://s3.amazonaws.com/GraphLab-Datasets/movie_ratings/training_data.csv</pre>"
       ],
       "metadata": {},
       "output_type": "display_data",
       "text": [
        "PROGRESS: Finished parsing file http://s3.amazonaws.com/GraphLab-Datasets/movie_ratings/training_data.csv"
       ]
      },
      {
       "html": [
        "<pre>PROGRESS: Parsing completed. Parsed 82068 lines in 0.085229 secs.</pre>"
       ],
       "metadata": {},
       "output_type": "display_data",
       "text": [
        "PROGRESS: Parsing completed. Parsed 82068 lines in 0.085229 secs."
       ]
      }
     ],
     "prompt_number": 5
    },
    {
     "cell_type": "code",
     "collapsed": false,
     "input": [
      "data.show()"
     ],
     "language": "python",
     "metadata": {},
     "outputs": [],
     "prompt_number": 6
    },
    {
     "cell_type": "code",
     "collapsed": false,
     "input": [
      "model = gl.recommender.create(data, user_id=\"user\", item_id=\"movie\", target=\"rating\")\n",
      "results = model.recommend(users=None, k=5)"
     ],
     "language": "python",
     "metadata": {},
     "outputs": [
      {
       "html": [
        "<pre>PROGRESS: Recsys training: model = matrix_factorization</pre>"
       ],
       "metadata": {},
       "output_type": "display_data",
       "text": [
        "PROGRESS: Recsys training: model = matrix_factorization"
       ]
      },
      {
       "html": [
        "<pre>PROGRESS: Training Schema = [ (user:categorical) (movie:categorical) : target = rating]</pre>"
       ],
       "metadata": {},
       "output_type": "display_data",
       "text": [
        "PROGRESS: Training Schema = [ (user:categorical) (movie:categorical) : target = rating]"
       ]
      },
      {
       "html": [
        "<pre>PROGRESS: Preparing data set.</pre>"
       ],
       "metadata": {},
       "output_type": "display_data",
       "text": [
        "PROGRESS: Preparing data set."
       ]
      },
      {
       "html": [
        "<pre>PROGRESS:     Training on 82068 training observations.</pre>"
       ],
       "metadata": {},
       "output_type": "display_data",
       "text": [
        "PROGRESS:     Training on 82068 training observations."
       ]
      },
      {
       "html": [
        "<pre>PROGRESS:     Data loaded in: 0.192586s</pre>"
       ],
       "metadata": {},
       "output_type": "display_data",
       "text": [
        "PROGRESS:     Data loaded in: 0.192586s"
       ]
      },
      {
       "html": [
        "<pre>PROGRESS: Training Matrix Factorization model for recommendations.</pre>"
       ],
       "metadata": {},
       "output_type": "display_data",
       "text": [
        "PROGRESS: Training Matrix Factorization model for recommendations."
       ]
      },
      {
       "html": [
        "<pre>PROGRESS:    Data has 82068 observations with 334 users and 7714 items.</pre>"
       ],
       "metadata": {},
       "output_type": "display_data",
       "text": [
        "PROGRESS:    Data has 82068 observations with 334 users and 7714 items."
       ]
      },
      {
       "html": [
        "<pre>PROGRESS:    L2 regularization on linear coefficients: 0</pre>"
       ],
       "metadata": {},
       "output_type": "display_data",
       "text": [
        "PROGRESS:    L2 regularization on linear coefficients: 0"
       ]
      },
      {
       "html": [
        "<pre>PROGRESS:    L2 regularization on matrix factors:      1</pre>"
       ],
       "metadata": {},
       "output_type": "display_data",
       "text": [
        "PROGRESS:    L2 regularization on matrix factors:      1"
       ]
      },
      {
       "html": [
        "<pre>PROGRESS:    n_factors:                                8</pre>"
       ],
       "metadata": {},
       "output_type": "display_data",
       "text": [
        "PROGRESS:    n_factors:                                8"
       ]
      },
      {
       "html": [
        "<pre>PROGRESS:   Optimizing model using SGD; tuning step size.</pre>"
       ],
       "metadata": {},
       "output_type": "display_data",
       "text": [
        "PROGRESS:   Optimizing model using SGD; tuning step size."
       ]
      },
      {
       "html": [
        "<pre>PROGRESS:   Using 10000 / 82068 points for tuning the step size.</pre>"
       ],
       "metadata": {},
       "output_type": "display_data",
       "text": [
        "PROGRESS:   Using 10000 / 82068 points for tuning the step size."
       ]
      },
      {
       "html": [
        "<pre>PROGRESS: +---------+-------------------+---------------------------+</pre>"
       ],
       "metadata": {},
       "output_type": "display_data",
       "text": [
        "PROGRESS: +---------+-------------------+---------------------------+"
       ]
      },
      {
       "html": [
        "<pre>PROGRESS: | Attempt | Initial Step Size | Estimated Objective Value |</pre>"
       ],
       "metadata": {},
       "output_type": "display_data",
       "text": [
        "PROGRESS: | Attempt | Initial Step Size | Estimated Objective Value |"
       ]
      },
      {
       "html": [
        "<pre>PROGRESS: +---------+-------------------+---------------------------+</pre>"
       ],
       "metadata": {},
       "output_type": "display_data",
       "text": [
        "PROGRESS: +---------+-------------------+---------------------------+"
       ]
      },
      {
       "html": [
        "<pre>PROGRESS: | 0       | 25                | Not Viable                |</pre>"
       ],
       "metadata": {},
       "output_type": "display_data",
       "text": [
        "PROGRESS: | 0       | 25                | Not Viable                |"
       ]
      },
      {
       "html": [
        "<pre>PROGRESS: | 1       | 6.25              | Not Viable                |</pre>"
       ],
       "metadata": {},
       "output_type": "display_data",
       "text": [
        "PROGRESS: | 1       | 6.25              | Not Viable                |"
       ]
      },
      {
       "html": [
        "<pre>PROGRESS: | 2       | 1.5625            | Not Viable                |</pre>"
       ],
       "metadata": {},
       "output_type": "display_data",
       "text": [
        "PROGRESS: | 2       | 1.5625            | Not Viable                |"
       ]
      },
      {
       "html": [
        "<pre>PROGRESS: | 3       | 0.390625          | Not Viable                |</pre>"
       ],
       "metadata": {},
       "output_type": "display_data",
       "text": [
        "PROGRESS: | 3       | 0.390625          | Not Viable                |"
       ]
      },
      {
       "html": [
        "<pre>PROGRESS: | 4       | 0.0976562         | 0.115368                  |</pre>"
       ],
       "metadata": {},
       "output_type": "display_data",
       "text": [
        "PROGRESS: | 4       | 0.0976562         | 0.115368                  |"
       ]
      },
      {
       "html": [
        "<pre>PROGRESS: | 5       | 0.0244141         | 0.454531                  |</pre>"
       ],
       "metadata": {},
       "output_type": "display_data",
       "text": [
        "PROGRESS: | 5       | 0.0244141         | 0.454531                  |"
       ]
      },
      {
       "html": [
        "<pre>PROGRESS: +---------+-------------------+---------------------------+</pre>"
       ],
       "metadata": {},
       "output_type": "display_data",
       "text": [
        "PROGRESS: +---------+-------------------+---------------------------+"
       ]
      },
      {
       "html": [
        "<pre>PROGRESS: | Final   | 0.0976562         | 0.115368                  |</pre>"
       ],
       "metadata": {},
       "output_type": "display_data",
       "text": [
        "PROGRESS: | Final   | 0.0976562         | 0.115368                  |"
       ]
      },
      {
       "html": [
        "<pre>PROGRESS: +---------+-------------------+---------------------------+</pre>"
       ],
       "metadata": {},
       "output_type": "display_data",
       "text": [
        "PROGRESS: +---------+-------------------+---------------------------+"
       ]
      },
      {
       "html": [
        "<pre>PROGRESS: Starting Optimization.</pre>"
       ],
       "metadata": {},
       "output_type": "display_data",
       "text": [
        "PROGRESS: Starting Optimization."
       ]
      },
      {
       "html": [
        "<pre>PROGRESS: +---------+--------------+----------------+---------------+-------------+</pre>"
       ],
       "metadata": {},
       "output_type": "display_data",
       "text": [
        "PROGRESS: +---------+--------------+----------------+---------------+-------------+"
       ]
      },
      {
       "html": [
        "<pre>PROGRESS: | Iter.   | Elapsed Time | Est. Objective | Training Loss | Step Size   |</pre>"
       ],
       "metadata": {},
       "output_type": "display_data",
       "text": [
        "PROGRESS: | Iter.   | Elapsed Time | Est. Objective | Training Loss | Step Size   |"
       ]
      },
      {
       "html": [
        "<pre>PROGRESS: +---------+--------------+----------------+---------------+-------------+</pre>"
       ],
       "metadata": {},
       "output_type": "display_data",
       "text": [
        "PROGRESS: +---------+--------------+----------------+---------------+-------------+"
       ]
      },
      {
       "html": [
        "<pre>PROGRESS: | Initial | 649us        | 13.7747        | 3.71143       |             |</pre>"
       ],
       "metadata": {},
       "output_type": "display_data",
       "text": [
        "PROGRESS: | Initial | 649us        | 13.7747        | 3.71143       |             |"
       ]
      },
      {
       "html": [
        "<pre>PROGRESS: +---------+--------------+----------------+---------------+-------------+</pre>"
       ],
       "metadata": {},
       "output_type": "display_data",
       "text": [
        "PROGRESS: +---------+--------------+----------------+---------------+-------------+"
       ]
      },
      {
       "html": [
        "<pre>PROGRESS: | 1       | 7.511ms      | DIVERGED       | DIVERGED      | 0.0976562   |</pre>"
       ],
       "metadata": {},
       "output_type": "display_data",
       "text": [
        "PROGRESS: | 1       | 7.511ms      | DIVERGED       | DIVERGED      | 0.0976562   |"
       ]
      },
      {
       "html": [
        "<pre>PROGRESS: +---------+--------------+----------------+---------------+-------------+</pre>"
       ],
       "metadata": {},
       "output_type": "display_data",
       "text": [
        "PROGRESS: +---------+--------------+----------------+---------------+-------------+"
       ]
      },
      {
       "html": [
        "<pre>PROGRESS: | Final   | 203.075ms    | nan            | nan           |             |</pre>"
       ],
       "metadata": {},
       "output_type": "display_data",
       "text": [
        "PROGRESS: | Final   | 203.075ms    | nan            | nan           |             |"
       ]
      },
      {
       "html": [
        "<pre>PROGRESS: +---------+--------------+----------------+---------------+-------------+</pre>"
       ],
       "metadata": {},
       "output_type": "display_data",
       "text": [
        "PROGRESS: +---------+--------------+----------------+---------------+-------------+"
       ]
      },
      {
       "html": [
        "<pre>PROGRESS: Optimization Complete: Maximum number of passes through the data reached.</pre>"
       ],
       "metadata": {},
       "output_type": "display_data",
       "text": [
        "PROGRESS: Optimization Complete: Maximum number of passes through the data reached."
       ]
      }
     ],
     "prompt_number": 7
    },
    {
     "cell_type": "code",
     "collapsed": false,
     "input": [
      "results"
     ],
     "language": "python",
     "metadata": {},
     "outputs": [
      {
       "html": [
        "<div style=\"max-height:1000px;max-width:1500px;overflow:auto;\"><table frame=\"box\" rules=\"cols\">\n",
        "    <tr>\n",
        "        <th style=\"padding-left: 1em; padding-right: 1em; text-align: center\">user</th>\n",
        "        <th style=\"padding-left: 1em; padding-right: 1em; text-align: center\">movie</th>\n",
        "        <th style=\"padding-left: 1em; padding-right: 1em; text-align: center\">score</th>\n",
        "        <th style=\"padding-left: 1em; padding-right: 1em; text-align: center\">rank</th>\n",
        "    </tr>\n",
        "    <tr>\n",
        "        <td style=\"padding-left: 1em; padding-right: 1em; text-align: center; vertical-align: top\">Erik Smith</td>\n",
        "        <td style=\"padding-left: 1em; padding-right: 1em; text-align: center; vertical-align: top\">Pure Country</td>\n",
        "        <td style=\"padding-left: 1em; padding-right: 1em; text-align: center; vertical-align: top\">nan</td>\n",
        "        <td style=\"padding-left: 1em; padding-right: 1em; text-align: center; vertical-align: top\">1</td>\n",
        "    </tr>\n",
        "    <tr>\n",
        "        <td style=\"padding-left: 1em; padding-right: 1em; text-align: center; vertical-align: top\">Erik Smith</td>\n",
        "        <td style=\"padding-left: 1em; padding-right: 1em; text-align: center; vertical-align: top\">One Hour Photo</td>\n",
        "        <td style=\"padding-left: 1em; padding-right: 1em; text-align: center; vertical-align: top\">nan</td>\n",
        "        <td style=\"padding-left: 1em; padding-right: 1em; text-align: center; vertical-align: top\">2</td>\n",
        "    </tr>\n",
        "    <tr>\n",
        "        <td style=\"padding-left: 1em; padding-right: 1em; text-align: center; vertical-align: top\">Erik Smith</td>\n",
        "        <td style=\"padding-left: 1em; padding-right: 1em; text-align: center; vertical-align: top\">Jo Jo Dancer</td>\n",
        "        <td style=\"padding-left: 1em; padding-right: 1em; text-align: center; vertical-align: top\">nan</td>\n",
        "        <td style=\"padding-left: 1em; padding-right: 1em; text-align: center; vertical-align: top\">3</td>\n",
        "    </tr>\n",
        "    <tr>\n",
        "        <td style=\"padding-left: 1em; padding-right: 1em; text-align: center; vertical-align: top\">Erik Smith</td>\n",
        "        <td style=\"padding-left: 1em; padding-right: 1em; text-align: center; vertical-align: top\">The Euroshock Collection:<br>Psychomania</td>\n",
        "        <td style=\"padding-left: 1em; padding-right: 1em; text-align: center; vertical-align: top\">nan</td>\n",
        "        <td style=\"padding-left: 1em; padding-right: 1em; text-align: center; vertical-align: top\">4</td>\n",
        "    </tr>\n",
        "    <tr>\n",
        "        <td style=\"padding-left: 1em; padding-right: 1em; text-align: center; vertical-align: top\">Erik Smith</td>\n",
        "        <td style=\"padding-left: 1em; padding-right: 1em; text-align: center; vertical-align: top\">What the #$*! Do We<br>Know!?</td>\n",
        "        <td style=\"padding-left: 1em; padding-right: 1em; text-align: center; vertical-align: top\">nan</td>\n",
        "        <td style=\"padding-left: 1em; padding-right: 1em; text-align: center; vertical-align: top\">5</td>\n",
        "    </tr>\n",
        "    <tr>\n",
        "        <td style=\"padding-left: 1em; padding-right: 1em; text-align: center; vertical-align: top\">Zion Smith</td>\n",
        "        <td style=\"padding-left: 1em; padding-right: 1em; text-align: center; vertical-align: top\">A Beautiful Mind</td>\n",
        "        <td style=\"padding-left: 1em; padding-right: 1em; text-align: center; vertical-align: top\">nan</td>\n",
        "        <td style=\"padding-left: 1em; padding-right: 1em; text-align: center; vertical-align: top\">1</td>\n",
        "    </tr>\n",
        "    <tr>\n",
        "        <td style=\"padding-left: 1em; padding-right: 1em; text-align: center; vertical-align: top\">Zion Smith</td>\n",
        "        <td style=\"padding-left: 1em; padding-right: 1em; text-align: center; vertical-align: top\">Short Circuit</td>\n",
        "        <td style=\"padding-left: 1em; padding-right: 1em; text-align: center; vertical-align: top\">nan</td>\n",
        "        <td style=\"padding-left: 1em; padding-right: 1em; text-align: center; vertical-align: top\">2</td>\n",
        "    </tr>\n",
        "    <tr>\n",
        "        <td style=\"padding-left: 1em; padding-right: 1em; text-align: center; vertical-align: top\">Zion Smith</td>\n",
        "        <td style=\"padding-left: 1em; padding-right: 1em; text-align: center; vertical-align: top\">Twisted</td>\n",
        "        <td style=\"padding-left: 1em; padding-right: 1em; text-align: center; vertical-align: top\">nan</td>\n",
        "        <td style=\"padding-left: 1em; padding-right: 1em; text-align: center; vertical-align: top\">3</td>\n",
        "    </tr>\n",
        "    <tr>\n",
        "        <td style=\"padding-left: 1em; padding-right: 1em; text-align: center; vertical-align: top\">Zion Smith</td>\n",
        "        <td style=\"padding-left: 1em; padding-right: 1em; text-align: center; vertical-align: top\">Speed 2: Cruise Control</td>\n",
        "        <td style=\"padding-left: 1em; padding-right: 1em; text-align: center; vertical-align: top\">nan</td>\n",
        "        <td style=\"padding-left: 1em; padding-right: 1em; text-align: center; vertical-align: top\">4</td>\n",
        "    </tr>\n",
        "    <tr>\n",
        "        <td style=\"padding-left: 1em; padding-right: 1em; text-align: center; vertical-align: top\">Zion Smith</td>\n",
        "        <td style=\"padding-left: 1em; padding-right: 1em; text-align: center; vertical-align: top\">Spider-Man 2</td>\n",
        "        <td style=\"padding-left: 1em; padding-right: 1em; text-align: center; vertical-align: top\">nan</td>\n",
        "        <td style=\"padding-left: 1em; padding-right: 1em; text-align: center; vertical-align: top\">5</td>\n",
        "    </tr>\n",
        "    <tr>\n",
        "        <td style=\"padding-left: 1em; padding-right: 1em; text-align: center; vertical-align: top\">...</td>\n",
        "        <td style=\"padding-left: 1em; padding-right: 1em; text-align: center; vertical-align: top\">...</td>\n",
        "        <td style=\"padding-left: 1em; padding-right: 1em; text-align: center; vertical-align: top\">...</td>\n",
        "        <td style=\"padding-left: 1em; padding-right: 1em; text-align: center; vertical-align: top\">...</td>\n",
        "    </tr>\n",
        "</table>\n",
        "[1670 rows x 4 columns]<br/>Note: Only the head of the SFrame is printed.<br/>You can use print_rows(num_rows=m, num_columns=n) to print more rows and columns.\n",
        "</div>"
       ],
       "metadata": {},
       "output_type": "pyout",
       "prompt_number": 8,
       "text": [
        "Columns:\n",
        "\tuser\tstr\n",
        "\tmovie\tstr\n",
        "\tscore\tfloat\n",
        "\trank\tint\n",
        "\n",
        "Rows: 1670\n",
        "\n",
        "Data:\n",
        "+------------+--------------------------------+-------+------+\n",
        "|    user    |             movie              | score | rank |\n",
        "+------------+--------------------------------+-------+------+\n",
        "| Erik Smith |          Pure Country          |  nan  |  1   |\n",
        "| Erik Smith |         One Hour Photo         |  nan  |  2   |\n",
        "| Erik Smith |          Jo Jo Dancer          |  nan  |  3   |\n",
        "| Erik Smith | The Euroshock Collection:  ... |  nan  |  4   |\n",
        "| Erik Smith |   What the #$*! Do We Know!?   |  nan  |  5   |\n",
        "| Zion Smith |        A Beautiful Mind        |  nan  |  1   |\n",
        "| Zion Smith |         Short Circuit          |  nan  |  2   |\n",
        "| Zion Smith |            Twisted             |  nan  |  3   |\n",
        "| Zion Smith |    Speed 2: Cruise Control     |  nan  |  4   |\n",
        "| Zion Smith |          Spider-Man 2          |  nan  |  5   |\n",
        "|    ...     |              ...               |  ...  | ...  |\n",
        "+------------+--------------------------------+-------+------+\n",
        "[1670 rows x 4 columns]\n",
        "Note: Only the head of the SFrame is printed.\n",
        "You can use print_rows(num_rows=m, num_columns=n) to print more rows and columns."
       ]
      }
     ],
     "prompt_number": 8
    },
    {
     "cell_type": "code",
     "collapsed": false,
     "input": [],
     "language": "python",
     "metadata": {},
     "outputs": []
    }
   ],
   "metadata": {}
  }
 ]
}