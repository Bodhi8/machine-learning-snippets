{
 "metadata": {
  "name": ""
 },
 "nbformat": 3,
 "nbformat_minor": 0,
 "worksheets": [
  {
   "cells": [
    {
     "cell_type": "code",
     "collapsed": false,
     "input": [
      "#Part 3\n",
      "#source: http://deeplearning.net/software/theano/tutorial/examples.html"
     ],
     "language": "python",
     "metadata": {},
     "outputs": [],
     "prompt_number": 1
    },
    {
     "cell_type": "code",
     "collapsed": false,
     "input": [
      "#imports\n",
      "import numpy as np\n",
      "from theano import function, shared\n",
      "import theano.tensor as T\n",
      "\n",
      "#Data and some parameters\n",
      "rng = np.random\n",
      "N = 4000\n",
      "feats = 20\n",
      "D = (vstack((rng.randn(N/2, feats),np.asarray([np.asarray([zzz+1 for zzz in zz]) for zz in rng.randn(N/2, feats)]))), \\\n",
      "        np.asarray([0]*(N/2) + [1]*(N/2)))\n",
      "training_steps = 10000"
     ],
     "language": "python",
     "metadata": {},
     "outputs": [],
     "prompt_number": 37
    },
    {
     "cell_type": "code",
     "collapsed": false,
     "input": [
      "#temp = rng.randint(size=N, low=0, high=2)\n",
      "# temp = np.asarray([[1,2],[3,4]])\n",
      "# print temp.shape\n",
      "# temp2 = np.asarray([zz for zz in temp])\n",
      "# print temp2.shape\n",
      "# D[0].shape[0]\n",
      "# D[1].shape[0]"
     ],
     "language": "python",
     "metadata": {},
     "outputs": [
      {
       "metadata": {},
       "output_type": "pyout",
       "prompt_number": 17,
       "text": [
        "4000"
       ]
      }
     ],
     "prompt_number": 17
    },
    {
     "cell_type": "code",
     "collapsed": false,
     "input": [
      "# Declare Theano symbolic variables\n",
      "x = T.matrix(\"x\")#feature matrix\n",
      "y = T.vector(\"y\")#labels\n",
      "w = shared(rng.randn(feats), name=\"w\")#shared symbol: linear weights which are randomly initialized\n",
      "b = shared(0., name=\"b\")#shared symbol: intercept\n",
      "print \"Initial model:\"\n",
      "print w.get_value(), b.get_value()"
     ],
     "language": "python",
     "metadata": {},
     "outputs": [
      {
       "output_type": "stream",
       "stream": "stdout",
       "text": [
        "Initial model:\n",
        "[ 0.7017091  -0.09574428  0.19004256  1.4445099   0.33981812  1.04488319\n",
        "  0.92139633 -1.10668209  0.39089799 -0.64674375  0.07080369 -0.36007897\n",
        "  0.08204442 -2.06888848  1.7979983   0.72964714  0.37727382  1.24449723\n",
        "  0.59812191 -0.23074891] 0.0\n"
       ]
      }
     ],
     "prompt_number": 38
    },
    {
     "cell_type": "code",
     "collapsed": false,
     "input": [
      "# Construct Theano expression graph\n",
      "\n",
      "#we will do a l2 regularized logistic regression here\n",
      "#the training loss function will be the E_{data}[- log likelihood]\n",
      "\n",
      "p_1 = 1 / (1 + T.exp(-T.dot(x, w) - b))   # Probability that target = 1\n",
      "prediction = p_1 > 0.5                    # The prediction thresholded\n",
      "xent = -y * T.log(p_1) - (1-y) * T.log(1-p_1) # Cross-entropy loss function\n",
      "cost = xent.mean() + 0.01 * (w ** 2).sum()# The cost to minimize\n",
      "\n",
      "gw, gb = T.grad(cost, [w, b])             # Compute the gradient of the cost\n",
      "                                          # (we shall return to this in a\n",
      "                                          # following section of this tutorial)"
     ],
     "language": "python",
     "metadata": {},
     "outputs": [],
     "prompt_number": 39
    },
    {
     "cell_type": "code",
     "collapsed": false,
     "input": [
      "# Compile\n",
      "train = function(\n",
      "          inputs=[x,y],\n",
      "          outputs=[prediction, xent],\n",
      "          updates=((w, w - 0.1 * gw), (b, b - 0.1 * gb)))\n",
      "predict = function(inputs=[x], outputs=prediction)\n",
      "\n",
      "# Train\n",
      "for i in range(training_steps):\n",
      "    pred, err = train(D[0], D[1])"
     ],
     "language": "python",
     "metadata": {},
     "outputs": [],
     "prompt_number": 40
    },
    {
     "cell_type": "code",
     "collapsed": false,
     "input": [
      "print \"Final model:\"\n",
      "print w.get_value(), b.get_value()\n",
      "#print \"(predicted,target) values for D:\", zip(predict(D[0]),D[1])\n",
      "print \"in sample error:\", 1.0*sum([z1==z2 for (z1,z2) in zip(predict(D[0]),D[1])])/N"
     ],
     "language": "python",
     "metadata": {},
     "outputs": [
      {
       "output_type": "stream",
       "stream": "stdout",
       "text": [
        "Final model:\n",
        "[ 0.44518778  0.45312919  0.43981096  0.49880927  0.42136723  0.43756246\n",
        "  0.42998108  0.40462826  0.39595374  0.40766217  0.45513428  0.47864124\n",
        "  0.45004352  0.47176247  0.45224937  0.43309704  0.49205093  0.35281848\n",
        "  0.39038155  0.44133104] -4.44263396501\n",
        "in sample error: 0.98925\n"
       ]
      }
     ],
     "prompt_number": 41
    },
    {
     "cell_type": "code",
     "collapsed": false,
     "input": [],
     "language": "python",
     "metadata": {},
     "outputs": []
    }
   ],
   "metadata": {}
  }
 ]
}