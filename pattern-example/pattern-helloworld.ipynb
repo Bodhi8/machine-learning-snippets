{
 "metadata": {
  "name": ""
 },
 "nbformat": 3,
 "nbformat_minor": 0,
 "worksheets": [
  {
   "cells": [
    {
     "cell_type": "code",
     "collapsed": false,
     "input": [
      "from pattern.web import Twitter, plaintext\n",
      "twitter = Twitter(language='en')\n",
      "for tweet in twitter.search('\"more important than\"', cached=False):\n",
      "  print plaintext(tweet.text)"
     ],
     "language": "python",
     "metadata": {},
     "outputs": [
      {
       "output_type": "stream",
       "stream": "stdout",
       "text": [
        "To Create Change, Leadership Is More Important Than Authority http://t.co/mI7RxoVLOH\n",
        "aint nothing more important than the mula\n",
        "RT @hardlyniall: school is not more important than my mental health\n",
        "RT @waverider_: Other peoples happiness is more important than my own!!!\n",
        "What you think of yourself is much more important than what others think of you\n",
        "RT @TEDTalks: \"The humanity we all share is more important than the mental illness we may not.\" http://t.co/UgDhXteUdb\n",
        "@77JEdwards ain't nothin more important than he mula \ud83d\udcb0\ud83d\udcb0\ud83d\udcb0\ud83d\udcaf\n",
        "This Chart Shows Why Pinterest Is Way More Important Than Twitter Or Reddit For Traffic Referrals http://t.co/WkHQMcbZYS via @Tech\n",
        "school is not more important than my mental health\n",
        "Because sleep is more important than talking to me.\n"
       ]
      }
     ],
     "prompt_number": 1
    }
   ],
   "metadata": {}
  }
 ]
}